{
  "nbformat": 4,
  "nbformat_minor": 0,
  "metadata": {
    "colab": {
      "provenance": [],
      "authorship_tag": "ABX9TyNP12WaDL0HV2FKodXdKwKr",
      "include_colab_link": true
    },
    "kernelspec": {
      "name": "python3",
      "display_name": "Python 3"
    },
    "language_info": {
      "name": "python"
    },
    "widgets": {
      "application/vnd.jupyter.widget-state+json": {
        "136d6361aa664ff48c0e548282cf5656": {
          "model_module": "@jupyter-widgets/controls",
          "model_name": "HBoxModel",
          "model_module_version": "1.5.0",
          "state": {
            "_dom_classes": [],
            "_model_module": "@jupyter-widgets/controls",
            "_model_module_version": "1.5.0",
            "_model_name": "HBoxModel",
            "_view_count": null,
            "_view_module": "@jupyter-widgets/controls",
            "_view_module_version": "1.5.0",
            "_view_name": "HBoxView",
            "box_style": "",
            "children": [
              "IPY_MODEL_7962ea1f6ed948759448ed8aa780b0d5",
              "IPY_MODEL_af3f5180c6ac454fb90646f453cf0be1",
              "IPY_MODEL_49d67dba5b6b493a80bd2612b28f9006"
            ],
            "layout": "IPY_MODEL_dbf3440cc5c14be0bbd71fcb4c32639e"
          }
        },
        "7962ea1f6ed948759448ed8aa780b0d5": {
          "model_module": "@jupyter-widgets/controls",
          "model_name": "HTMLModel",
          "model_module_version": "1.5.0",
          "state": {
            "_dom_classes": [],
            "_model_module": "@jupyter-widgets/controls",
            "_model_module_version": "1.5.0",
            "_model_name": "HTMLModel",
            "_view_count": null,
            "_view_module": "@jupyter-widgets/controls",
            "_view_module_version": "1.5.0",
            "_view_name": "HTMLView",
            "description": "",
            "description_tooltip": null,
            "layout": "IPY_MODEL_4d0ffe1977a745e4ac4d2450db606753",
            "placeholder": "​",
            "style": "IPY_MODEL_88804e9ff55945f286f9ec8a638ee1c0",
            "value": "100%"
          }
        },
        "af3f5180c6ac454fb90646f453cf0be1": {
          "model_module": "@jupyter-widgets/controls",
          "model_name": "FloatProgressModel",
          "model_module_version": "1.5.0",
          "state": {
            "_dom_classes": [],
            "_model_module": "@jupyter-widgets/controls",
            "_model_module_version": "1.5.0",
            "_model_name": "FloatProgressModel",
            "_view_count": null,
            "_view_module": "@jupyter-widgets/controls",
            "_view_module_version": "1.5.0",
            "_view_name": "ProgressView",
            "bar_style": "success",
            "description": "",
            "description_tooltip": null,
            "layout": "IPY_MODEL_ee6ddac107cb4359a7ee8831776d6497",
            "max": 3,
            "min": 0,
            "orientation": "horizontal",
            "style": "IPY_MODEL_183352c424104b80900e85c7bdacd3b4",
            "value": 3
          }
        },
        "49d67dba5b6b493a80bd2612b28f9006": {
          "model_module": "@jupyter-widgets/controls",
          "model_name": "HTMLModel",
          "model_module_version": "1.5.0",
          "state": {
            "_dom_classes": [],
            "_model_module": "@jupyter-widgets/controls",
            "_model_module_version": "1.5.0",
            "_model_name": "HTMLModel",
            "_view_count": null,
            "_view_module": "@jupyter-widgets/controls",
            "_view_module_version": "1.5.0",
            "_view_name": "HTMLView",
            "description": "",
            "description_tooltip": null,
            "layout": "IPY_MODEL_a5c6ef4a22c947fab81da6462e271b3d",
            "placeholder": "​",
            "style": "IPY_MODEL_35f5f2e3a56840c2a78248d8e84e1c56",
            "value": " 3/3 [03:10&lt;00:00, 63.21s/it]"
          }
        },
        "dbf3440cc5c14be0bbd71fcb4c32639e": {
          "model_module": "@jupyter-widgets/base",
          "model_name": "LayoutModel",
          "model_module_version": "1.2.0",
          "state": {
            "_model_module": "@jupyter-widgets/base",
            "_model_module_version": "1.2.0",
            "_model_name": "LayoutModel",
            "_view_count": null,
            "_view_module": "@jupyter-widgets/base",
            "_view_module_version": "1.2.0",
            "_view_name": "LayoutView",
            "align_content": null,
            "align_items": null,
            "align_self": null,
            "border": null,
            "bottom": null,
            "display": null,
            "flex": null,
            "flex_flow": null,
            "grid_area": null,
            "grid_auto_columns": null,
            "grid_auto_flow": null,
            "grid_auto_rows": null,
            "grid_column": null,
            "grid_gap": null,
            "grid_row": null,
            "grid_template_areas": null,
            "grid_template_columns": null,
            "grid_template_rows": null,
            "height": null,
            "justify_content": null,
            "justify_items": null,
            "left": null,
            "margin": null,
            "max_height": null,
            "max_width": null,
            "min_height": null,
            "min_width": null,
            "object_fit": null,
            "object_position": null,
            "order": null,
            "overflow": null,
            "overflow_x": null,
            "overflow_y": null,
            "padding": null,
            "right": null,
            "top": null,
            "visibility": null,
            "width": null
          }
        },
        "4d0ffe1977a745e4ac4d2450db606753": {
          "model_module": "@jupyter-widgets/base",
          "model_name": "LayoutModel",
          "model_module_version": "1.2.0",
          "state": {
            "_model_module": "@jupyter-widgets/base",
            "_model_module_version": "1.2.0",
            "_model_name": "LayoutModel",
            "_view_count": null,
            "_view_module": "@jupyter-widgets/base",
            "_view_module_version": "1.2.0",
            "_view_name": "LayoutView",
            "align_content": null,
            "align_items": null,
            "align_self": null,
            "border": null,
            "bottom": null,
            "display": null,
            "flex": null,
            "flex_flow": null,
            "grid_area": null,
            "grid_auto_columns": null,
            "grid_auto_flow": null,
            "grid_auto_rows": null,
            "grid_column": null,
            "grid_gap": null,
            "grid_row": null,
            "grid_template_areas": null,
            "grid_template_columns": null,
            "grid_template_rows": null,
            "height": null,
            "justify_content": null,
            "justify_items": null,
            "left": null,
            "margin": null,
            "max_height": null,
            "max_width": null,
            "min_height": null,
            "min_width": null,
            "object_fit": null,
            "object_position": null,
            "order": null,
            "overflow": null,
            "overflow_x": null,
            "overflow_y": null,
            "padding": null,
            "right": null,
            "top": null,
            "visibility": null,
            "width": null
          }
        },
        "88804e9ff55945f286f9ec8a638ee1c0": {
          "model_module": "@jupyter-widgets/controls",
          "model_name": "DescriptionStyleModel",
          "model_module_version": "1.5.0",
          "state": {
            "_model_module": "@jupyter-widgets/controls",
            "_model_module_version": "1.5.0",
            "_model_name": "DescriptionStyleModel",
            "_view_count": null,
            "_view_module": "@jupyter-widgets/base",
            "_view_module_version": "1.2.0",
            "_view_name": "StyleView",
            "description_width": ""
          }
        },
        "ee6ddac107cb4359a7ee8831776d6497": {
          "model_module": "@jupyter-widgets/base",
          "model_name": "LayoutModel",
          "model_module_version": "1.2.0",
          "state": {
            "_model_module": "@jupyter-widgets/base",
            "_model_module_version": "1.2.0",
            "_model_name": "LayoutModel",
            "_view_count": null,
            "_view_module": "@jupyter-widgets/base",
            "_view_module_version": "1.2.0",
            "_view_name": "LayoutView",
            "align_content": null,
            "align_items": null,
            "align_self": null,
            "border": null,
            "bottom": null,
            "display": null,
            "flex": null,
            "flex_flow": null,
            "grid_area": null,
            "grid_auto_columns": null,
            "grid_auto_flow": null,
            "grid_auto_rows": null,
            "grid_column": null,
            "grid_gap": null,
            "grid_row": null,
            "grid_template_areas": null,
            "grid_template_columns": null,
            "grid_template_rows": null,
            "height": null,
            "justify_content": null,
            "justify_items": null,
            "left": null,
            "margin": null,
            "max_height": null,
            "max_width": null,
            "min_height": null,
            "min_width": null,
            "object_fit": null,
            "object_position": null,
            "order": null,
            "overflow": null,
            "overflow_x": null,
            "overflow_y": null,
            "padding": null,
            "right": null,
            "top": null,
            "visibility": null,
            "width": null
          }
        },
        "183352c424104b80900e85c7bdacd3b4": {
          "model_module": "@jupyter-widgets/controls",
          "model_name": "ProgressStyleModel",
          "model_module_version": "1.5.0",
          "state": {
            "_model_module": "@jupyter-widgets/controls",
            "_model_module_version": "1.5.0",
            "_model_name": "ProgressStyleModel",
            "_view_count": null,
            "_view_module": "@jupyter-widgets/base",
            "_view_module_version": "1.2.0",
            "_view_name": "StyleView",
            "bar_color": null,
            "description_width": ""
          }
        },
        "a5c6ef4a22c947fab81da6462e271b3d": {
          "model_module": "@jupyter-widgets/base",
          "model_name": "LayoutModel",
          "model_module_version": "1.2.0",
          "state": {
            "_model_module": "@jupyter-widgets/base",
            "_model_module_version": "1.2.0",
            "_model_name": "LayoutModel",
            "_view_count": null,
            "_view_module": "@jupyter-widgets/base",
            "_view_module_version": "1.2.0",
            "_view_name": "LayoutView",
            "align_content": null,
            "align_items": null,
            "align_self": null,
            "border": null,
            "bottom": null,
            "display": null,
            "flex": null,
            "flex_flow": null,
            "grid_area": null,
            "grid_auto_columns": null,
            "grid_auto_flow": null,
            "grid_auto_rows": null,
            "grid_column": null,
            "grid_gap": null,
            "grid_row": null,
            "grid_template_areas": null,
            "grid_template_columns": null,
            "grid_template_rows": null,
            "height": null,
            "justify_content": null,
            "justify_items": null,
            "left": null,
            "margin": null,
            "max_height": null,
            "max_width": null,
            "min_height": null,
            "min_width": null,
            "object_fit": null,
            "object_position": null,
            "order": null,
            "overflow": null,
            "overflow_x": null,
            "overflow_y": null,
            "padding": null,
            "right": null,
            "top": null,
            "visibility": null,
            "width": null
          }
        },
        "35f5f2e3a56840c2a78248d8e84e1c56": {
          "model_module": "@jupyter-widgets/controls",
          "model_name": "DescriptionStyleModel",
          "model_module_version": "1.5.0",
          "state": {
            "_model_module": "@jupyter-widgets/controls",
            "_model_module_version": "1.5.0",
            "_model_name": "DescriptionStyleModel",
            "_view_count": null,
            "_view_module": "@jupyter-widgets/base",
            "_view_module_version": "1.2.0",
            "_view_name": "StyleView",
            "description_width": ""
          }
        },
        "d5ab59244eb14b14905545761ef36d65": {
          "model_module": "@jupyter-widgets/controls",
          "model_name": "HBoxModel",
          "model_module_version": "1.5.0",
          "state": {
            "_dom_classes": [],
            "_model_module": "@jupyter-widgets/controls",
            "_model_module_version": "1.5.0",
            "_model_name": "HBoxModel",
            "_view_count": null,
            "_view_module": "@jupyter-widgets/controls",
            "_view_module_version": "1.5.0",
            "_view_name": "HBoxView",
            "box_style": "",
            "children": [
              "IPY_MODEL_0b00c4c5c7a34dc9a44f534c11c42144",
              "IPY_MODEL_dd6d296303aa44cf84fa171cfb52a4ba",
              "IPY_MODEL_4cacb1937d914a349793f3bf7ff66c28"
            ],
            "layout": "IPY_MODEL_541e4e2b2ef14c98a3623d2d46cd2a82"
          }
        },
        "0b00c4c5c7a34dc9a44f534c11c42144": {
          "model_module": "@jupyter-widgets/controls",
          "model_name": "HTMLModel",
          "model_module_version": "1.5.0",
          "state": {
            "_dom_classes": [],
            "_model_module": "@jupyter-widgets/controls",
            "_model_module_version": "1.5.0",
            "_model_name": "HTMLModel",
            "_view_count": null,
            "_view_module": "@jupyter-widgets/controls",
            "_view_module_version": "1.5.0",
            "_view_name": "HTMLView",
            "description": "",
            "description_tooltip": null,
            "layout": "IPY_MODEL_fb742f6f2fb8428fb622303bc0adc8f0",
            "placeholder": "​",
            "style": "IPY_MODEL_4dfa8adcec574526856b743727c980a0",
            "value": "Making prediction...: 100%"
          }
        },
        "dd6d296303aa44cf84fa171cfb52a4ba": {
          "model_module": "@jupyter-widgets/controls",
          "model_name": "FloatProgressModel",
          "model_module_version": "1.5.0",
          "state": {
            "_dom_classes": [],
            "_model_module": "@jupyter-widgets/controls",
            "_model_module_version": "1.5.0",
            "_model_name": "FloatProgressModel",
            "_view_count": null,
            "_view_module": "@jupyter-widgets/controls",
            "_view_module_version": "1.5.0",
            "_view_name": "ProgressView",
            "bar_style": "success",
            "description": "",
            "description_tooltip": null,
            "layout": "IPY_MODEL_02466186229a4020be15dcbd20e4ddb2",
            "max": 313,
            "min": 0,
            "orientation": "horizontal",
            "style": "IPY_MODEL_0f1b51f5fb8e4f6ca2282fe559a07a99",
            "value": 313
          }
        },
        "4cacb1937d914a349793f3bf7ff66c28": {
          "model_module": "@jupyter-widgets/controls",
          "model_name": "HTMLModel",
          "model_module_version": "1.5.0",
          "state": {
            "_dom_classes": [],
            "_model_module": "@jupyter-widgets/controls",
            "_model_module_version": "1.5.0",
            "_model_name": "HTMLModel",
            "_view_count": null,
            "_view_module": "@jupyter-widgets/controls",
            "_view_module_version": "1.5.0",
            "_view_name": "HTMLView",
            "description": "",
            "description_tooltip": null,
            "layout": "IPY_MODEL_e60da7a4b7e74f02b74f4f4eb28d6bf4",
            "placeholder": "​",
            "style": "IPY_MODEL_b4e74ffc9f0f4087a9d6ddc961f7cee0",
            "value": " 313/313 [00:05&lt;00:00, 61.79it/s]"
          }
        },
        "541e4e2b2ef14c98a3623d2d46cd2a82": {
          "model_module": "@jupyter-widgets/base",
          "model_name": "LayoutModel",
          "model_module_version": "1.2.0",
          "state": {
            "_model_module": "@jupyter-widgets/base",
            "_model_module_version": "1.2.0",
            "_model_name": "LayoutModel",
            "_view_count": null,
            "_view_module": "@jupyter-widgets/base",
            "_view_module_version": "1.2.0",
            "_view_name": "LayoutView",
            "align_content": null,
            "align_items": null,
            "align_self": null,
            "border": null,
            "bottom": null,
            "display": null,
            "flex": null,
            "flex_flow": null,
            "grid_area": null,
            "grid_auto_columns": null,
            "grid_auto_flow": null,
            "grid_auto_rows": null,
            "grid_column": null,
            "grid_gap": null,
            "grid_row": null,
            "grid_template_areas": null,
            "grid_template_columns": null,
            "grid_template_rows": null,
            "height": null,
            "justify_content": null,
            "justify_items": null,
            "left": null,
            "margin": null,
            "max_height": null,
            "max_width": null,
            "min_height": null,
            "min_width": null,
            "object_fit": null,
            "object_position": null,
            "order": null,
            "overflow": null,
            "overflow_x": null,
            "overflow_y": null,
            "padding": null,
            "right": null,
            "top": null,
            "visibility": null,
            "width": null
          }
        },
        "fb742f6f2fb8428fb622303bc0adc8f0": {
          "model_module": "@jupyter-widgets/base",
          "model_name": "LayoutModel",
          "model_module_version": "1.2.0",
          "state": {
            "_model_module": "@jupyter-widgets/base",
            "_model_module_version": "1.2.0",
            "_model_name": "LayoutModel",
            "_view_count": null,
            "_view_module": "@jupyter-widgets/base",
            "_view_module_version": "1.2.0",
            "_view_name": "LayoutView",
            "align_content": null,
            "align_items": null,
            "align_self": null,
            "border": null,
            "bottom": null,
            "display": null,
            "flex": null,
            "flex_flow": null,
            "grid_area": null,
            "grid_auto_columns": null,
            "grid_auto_flow": null,
            "grid_auto_rows": null,
            "grid_column": null,
            "grid_gap": null,
            "grid_row": null,
            "grid_template_areas": null,
            "grid_template_columns": null,
            "grid_template_rows": null,
            "height": null,
            "justify_content": null,
            "justify_items": null,
            "left": null,
            "margin": null,
            "max_height": null,
            "max_width": null,
            "min_height": null,
            "min_width": null,
            "object_fit": null,
            "object_position": null,
            "order": null,
            "overflow": null,
            "overflow_x": null,
            "overflow_y": null,
            "padding": null,
            "right": null,
            "top": null,
            "visibility": null,
            "width": null
          }
        },
        "4dfa8adcec574526856b743727c980a0": {
          "model_module": "@jupyter-widgets/controls",
          "model_name": "DescriptionStyleModel",
          "model_module_version": "1.5.0",
          "state": {
            "_model_module": "@jupyter-widgets/controls",
            "_model_module_version": "1.5.0",
            "_model_name": "DescriptionStyleModel",
            "_view_count": null,
            "_view_module": "@jupyter-widgets/base",
            "_view_module_version": "1.2.0",
            "_view_name": "StyleView",
            "description_width": ""
          }
        },
        "02466186229a4020be15dcbd20e4ddb2": {
          "model_module": "@jupyter-widgets/base",
          "model_name": "LayoutModel",
          "model_module_version": "1.2.0",
          "state": {
            "_model_module": "@jupyter-widgets/base",
            "_model_module_version": "1.2.0",
            "_model_name": "LayoutModel",
            "_view_count": null,
            "_view_module": "@jupyter-widgets/base",
            "_view_module_version": "1.2.0",
            "_view_name": "LayoutView",
            "align_content": null,
            "align_items": null,
            "align_self": null,
            "border": null,
            "bottom": null,
            "display": null,
            "flex": null,
            "flex_flow": null,
            "grid_area": null,
            "grid_auto_columns": null,
            "grid_auto_flow": null,
            "grid_auto_rows": null,
            "grid_column": null,
            "grid_gap": null,
            "grid_row": null,
            "grid_template_areas": null,
            "grid_template_columns": null,
            "grid_template_rows": null,
            "height": null,
            "justify_content": null,
            "justify_items": null,
            "left": null,
            "margin": null,
            "max_height": null,
            "max_width": null,
            "min_height": null,
            "min_width": null,
            "object_fit": null,
            "object_position": null,
            "order": null,
            "overflow": null,
            "overflow_x": null,
            "overflow_y": null,
            "padding": null,
            "right": null,
            "top": null,
            "visibility": null,
            "width": null
          }
        },
        "0f1b51f5fb8e4f6ca2282fe559a07a99": {
          "model_module": "@jupyter-widgets/controls",
          "model_name": "ProgressStyleModel",
          "model_module_version": "1.5.0",
          "state": {
            "_model_module": "@jupyter-widgets/controls",
            "_model_module_version": "1.5.0",
            "_model_name": "ProgressStyleModel",
            "_view_count": null,
            "_view_module": "@jupyter-widgets/base",
            "_view_module_version": "1.2.0",
            "_view_name": "StyleView",
            "bar_color": null,
            "description_width": ""
          }
        },
        "e60da7a4b7e74f02b74f4f4eb28d6bf4": {
          "model_module": "@jupyter-widgets/base",
          "model_name": "LayoutModel",
          "model_module_version": "1.2.0",
          "state": {
            "_model_module": "@jupyter-widgets/base",
            "_model_module_version": "1.2.0",
            "_model_name": "LayoutModel",
            "_view_count": null,
            "_view_module": "@jupyter-widgets/base",
            "_view_module_version": "1.2.0",
            "_view_name": "LayoutView",
            "align_content": null,
            "align_items": null,
            "align_self": null,
            "border": null,
            "bottom": null,
            "display": null,
            "flex": null,
            "flex_flow": null,
            "grid_area": null,
            "grid_auto_columns": null,
            "grid_auto_flow": null,
            "grid_auto_rows": null,
            "grid_column": null,
            "grid_gap": null,
            "grid_row": null,
            "grid_template_areas": null,
            "grid_template_columns": null,
            "grid_template_rows": null,
            "height": null,
            "justify_content": null,
            "justify_items": null,
            "left": null,
            "margin": null,
            "max_height": null,
            "max_width": null,
            "min_height": null,
            "min_width": null,
            "object_fit": null,
            "object_position": null,
            "order": null,
            "overflow": null,
            "overflow_x": null,
            "overflow_y": null,
            "padding": null,
            "right": null,
            "top": null,
            "visibility": null,
            "width": null
          }
        },
        "b4e74ffc9f0f4087a9d6ddc961f7cee0": {
          "model_module": "@jupyter-widgets/controls",
          "model_name": "DescriptionStyleModel",
          "model_module_version": "1.5.0",
          "state": {
            "_model_module": "@jupyter-widgets/controls",
            "_model_module_version": "1.5.0",
            "_model_name": "DescriptionStyleModel",
            "_view_count": null,
            "_view_module": "@jupyter-widgets/base",
            "_view_module_version": "1.2.0",
            "_view_name": "StyleView",
            "description_width": ""
          }
        }
      }
    }
  },
  "cells": [
    {
      "cell_type": "markdown",
      "metadata": {
        "id": "view-in-github",
        "colab_type": "text"
      },
      "source": [
        "<a href=\"https://colab.research.google.com/github/daylightzjr/daylightzjr/blob/main/CNN_pytorch.ipynb\" target=\"_parent\"><img src=\"https://colab.research.google.com/assets/colab-badge.svg\" alt=\"Open In Colab\"/></a>"
      ]
    },
    {
      "cell_type": "code",
      "execution_count": 35,
      "metadata": {
        "colab": {
          "base_uri": "https://localhost:8080/"
        },
        "id": "CSpESTKyDapN",
        "outputId": "78cbd63f-fdba-40df-d339-8f13eb252060"
      },
      "outputs": [
        {
          "output_type": "stream",
          "name": "stdout",
          "text": [
            "2.4.0+cu121\n",
            "0.19.0+cu121\n"
          ]
        }
      ],
      "source": [
        "import torch\n",
        "from torch import nn\n",
        "\n",
        "import torchvision\n",
        "from torchvision import datasets\n",
        "from torchvision import transforms\n",
        "from torchvision.transforms import ToTensor\n",
        "\n",
        "import matplotlib.pyplot as plt\n",
        "from tqdm.auto import tqdm\n",
        "print(torch.__version__)\n",
        "print(torchvision.__version__)"
      ]
    },
    {
      "cell_type": "code",
      "source": [
        "device  = \"cuda\" if torch.cuda.is_available() else \"cpu\"\n",
        "device"
      ],
      "metadata": {
        "colab": {
          "base_uri": "https://localhost:8080/",
          "height": 35
        },
        "id": "EFm0w43jJraw",
        "outputId": "88765ea4-c7e1-4194-d521-6c53e11e0674"
      },
      "execution_count": 36,
      "outputs": [
        {
          "output_type": "execute_result",
          "data": {
            "text/plain": [
              "'cpu'"
            ],
            "application/vnd.google.colaboratory.intrinsic+json": {
              "type": "string"
            }
          },
          "metadata": {},
          "execution_count": 36
        }
      ]
    },
    {
      "cell_type": "markdown",
      "source": [
        "##数据集的加载和划分"
      ],
      "metadata": {
        "id": "8qGtr0MjFmgS"
      }
    },
    {
      "cell_type": "code",
      "source": [
        "from torchvision import datasets\n",
        "train_data = datasets.FashionMNIST(\n",
        "    root=\"data\",\n",
        "    train=True,\n",
        "    download=True,\n",
        "    transform=ToTensor(),\n",
        "    target_transform=None\n",
        ")\n",
        "test_data = datasets.FashionMNIST(\n",
        "    root=\"data\",\n",
        "    train=False,\n",
        "    download=True,\n",
        "    transform=ToTensor(),\n",
        "    target_transform=None\n",
        ")"
      ],
      "metadata": {
        "id": "zfDgaYsUD-s6"
      },
      "execution_count": 37,
      "outputs": []
    },
    {
      "cell_type": "code",
      "source": [
        "len(train_data), len(test_data)"
      ],
      "metadata": {
        "colab": {
          "base_uri": "https://localhost:8080/"
        },
        "id": "gGBzWchMEPhb",
        "outputId": "76dcf7d0-52e9-4359-d118-c9d9aefa1d19"
      },
      "execution_count": 38,
      "outputs": [
        {
          "output_type": "execute_result",
          "data": {
            "text/plain": [
              "(60000, 10000)"
            ]
          },
          "metadata": {},
          "execution_count": 38
        }
      ]
    },
    {
      "cell_type": "code",
      "source": [
        "class_names = train_data.classes\n",
        "class_names"
      ],
      "metadata": {
        "colab": {
          "base_uri": "https://localhost:8080/"
        },
        "id": "vtoI3pAuEr3M",
        "outputId": "065ba9af-7ea2-408d-8b67-a2b06d3d30bf"
      },
      "execution_count": 39,
      "outputs": [
        {
          "output_type": "execute_result",
          "data": {
            "text/plain": [
              "['T-shirt/top',\n",
              " 'Trouser',\n",
              " 'Pullover',\n",
              " 'Dress',\n",
              " 'Coat',\n",
              " 'Sandal',\n",
              " 'Shirt',\n",
              " 'Sneaker',\n",
              " 'Bag',\n",
              " 'Ankle boot']"
            ]
          },
          "metadata": {},
          "execution_count": 39
        }
      ]
    },
    {
      "cell_type": "code",
      "source": [
        "class_to_idx = train_data.class_to_idx\n",
        "class_to_idx"
      ],
      "metadata": {
        "colab": {
          "base_uri": "https://localhost:8080/"
        },
        "id": "NgOhStElEvQw",
        "outputId": "29b7e66b-fcd8-4fe9-99c3-5bdb051b9899"
      },
      "execution_count": 40,
      "outputs": [
        {
          "output_type": "execute_result",
          "data": {
            "text/plain": [
              "{'T-shirt/top': 0,\n",
              " 'Trouser': 1,\n",
              " 'Pullover': 2,\n",
              " 'Dress': 3,\n",
              " 'Coat': 4,\n",
              " 'Sandal': 5,\n",
              " 'Shirt': 6,\n",
              " 'Sneaker': 7,\n",
              " 'Bag': 8,\n",
              " 'Ankle boot': 9}"
            ]
          },
          "metadata": {},
          "execution_count": 40
        }
      ]
    },
    {
      "cell_type": "code",
      "source": [
        "train_data.targets"
      ],
      "metadata": {
        "colab": {
          "base_uri": "https://localhost:8080/"
        },
        "id": "aTU-nUy2E5Gm",
        "outputId": "e134b548-5cd0-4347-f8d2-c72b49cb5243"
      },
      "execution_count": 41,
      "outputs": [
        {
          "output_type": "execute_result",
          "data": {
            "text/plain": [
              "tensor([9, 0, 0,  ..., 3, 0, 5])"
            ]
          },
          "metadata": {},
          "execution_count": 41
        }
      ]
    },
    {
      "cell_type": "code",
      "source": [
        "from torch.utils.data import DataLoader\n",
        "BATCH_SIZE = 32\n",
        "train_dataloader = DataLoader(\n",
        "    dataset = train_data,\n",
        "    batch_size = BATCH_SIZE,\n",
        "    shuffle = True\n",
        ")\n",
        "test_dataloader = DataLoader(\n",
        "    dataset = test_data,\n",
        "    batch_size = BATCH_SIZE,\n",
        "    shuffle = False\n",
        ")"
      ],
      "metadata": {
        "id": "MPLfxotXE8AW"
      },
      "execution_count": 42,
      "outputs": []
    },
    {
      "cell_type": "markdown",
      "source": [
        "##Building a Convolutional Neural Network(CNN)"
      ],
      "metadata": {
        "id": "vFiM1adlF0Rm"
      }
    },
    {
      "cell_type": "code",
      "source": [
        "class FashionMNISTModelV2(nn.Module):\n",
        "  def __init__(self,input_shape:int,hidden_units:int,output_shape:int):\n",
        "    super().__init__()\n",
        "    self.conv_block_1 = nn.Sequential(\n",
        "        nn.Conv2d(in_channels=input_shape,\n",
        "              out_channels=hidden_units,\n",
        "              kernel_size=3,\n",
        "              padding = 1,\n",
        "              stride=1),\n",
        "        nn.ReLU(),\n",
        "        nn.Conv2d(in_channels=hidden_units,\n",
        "              out_channels=hidden_units,\n",
        "              kernel_size=3,\n",
        "              padding=1,\n",
        "              stride=1),\n",
        "        nn.ReLU(),\n",
        "        nn.MaxPool2d(kernel_size=2)\n",
        "    )\n",
        "    self.conv_block_2 = nn.Sequential(\n",
        "        nn.Conv2d(in_channels=hidden_units,\n",
        "                  out_channels=hidden_units,\n",
        "                  kernel_size=3,\n",
        "                  stride=1,\n",
        "                  padding=1),\n",
        "        nn.ReLU(),\n",
        "        nn.Conv2d(in_channels=hidden_units,\n",
        "                  out_channels=hidden_units,\n",
        "                  kernel_size=3,\n",
        "                  stride=1,\n",
        "                  padding=1),\n",
        "        nn.ReLU(),\n",
        "        nn.MaxPool2d(kernel_size=2)\n",
        "    )\n",
        "    self.classifier = nn.Sequential(\n",
        "        nn.Flatten(),\n",
        "        nn.Linear(in_features=hidden_units*7*7,\n",
        "              out_features=output_shape)\n",
        "    )\n",
        "  def forward(self,x):\n",
        "    x = self.conv_block_1(x)\n",
        "    x = self.conv_block_2(x)\n",
        "    x = self.classifier(x)\n",
        "    return x"
      ],
      "metadata": {
        "id": "Ev_gegg4FWCs"
      },
      "execution_count": 43,
      "outputs": []
    },
    {
      "cell_type": "code",
      "source": [
        "model_2 = FashionMNISTModelV2(\n",
        "    input_shape=1,\n",
        "    hidden_units=10,\n",
        "    output_shape=len(class_names)\n",
        ").to(device)\n",
        "model_2"
      ],
      "metadata": {
        "colab": {
          "base_uri": "https://localhost:8080/"
        },
        "id": "giVLL2lbH2mD",
        "outputId": "b01e43f1-1228-4c45-d8f0-58d3a7173a76"
      },
      "execution_count": 44,
      "outputs": [
        {
          "output_type": "execute_result",
          "data": {
            "text/plain": [
              "FashionMNISTModelV2(\n",
              "  (conv_block_1): Sequential(\n",
              "    (0): Conv2d(1, 10, kernel_size=(3, 3), stride=(1, 1), padding=(1, 1))\n",
              "    (1): ReLU()\n",
              "    (2): Conv2d(10, 10, kernel_size=(3, 3), stride=(1, 1), padding=(1, 1))\n",
              "    (3): ReLU()\n",
              "    (4): MaxPool2d(kernel_size=2, stride=2, padding=0, dilation=1, ceil_mode=False)\n",
              "  )\n",
              "  (conv_block_2): Sequential(\n",
              "    (0): Conv2d(10, 10, kernel_size=(3, 3), stride=(1, 1), padding=(1, 1))\n",
              "    (1): ReLU()\n",
              "    (2): Conv2d(10, 10, kernel_size=(3, 3), stride=(1, 1), padding=(1, 1))\n",
              "    (3): ReLU()\n",
              "    (4): MaxPool2d(kernel_size=2, stride=2, padding=0, dilation=1, ceil_mode=False)\n",
              "  )\n",
              "  (classifier): Sequential(\n",
              "    (0): Flatten(start_dim=1, end_dim=-1)\n",
              "    (1): Linear(in_features=490, out_features=10, bias=True)\n",
              "  )\n",
              ")"
            ]
          },
          "metadata": {},
          "execution_count": 44
        }
      ]
    },
    {
      "cell_type": "markdown",
      "source": [
        "##Build optimizer loss and evaluation"
      ],
      "metadata": {
        "id": "LK7KQXkyIdp9"
      }
    },
    {
      "cell_type": "code",
      "source": [
        "import requests\n",
        "from pathlib import Path\n",
        "\n",
        "# Download helper functions from Learn PyTorch repo\n",
        "if Path(\"helper_functions.py\").is_file():\n",
        "  print(\"helper_functions.py already exists, skipping download...\")\n",
        "else:\n",
        "  print(\"Downloading helper_functions.py\")\n",
        "  request = requests.get(\"https://raw.githubusercontent.com/mrdbourke/pytorch-deep-learning/main/helper_functions.py\")\n",
        "  with open(\"helper_functions.py\", \"wb\") as f:\n",
        "    f.write(request.content)"
      ],
      "metadata": {
        "colab": {
          "base_uri": "https://localhost:8080/"
        },
        "id": "UTK831COH7sF",
        "outputId": "caf6034f-e95b-4760-ac0e-231ff5356ef2"
      },
      "execution_count": 45,
      "outputs": [
        {
          "output_type": "stream",
          "name": "stdout",
          "text": [
            "helper_functions.py already exists, skipping download...\n"
          ]
        }
      ]
    },
    {
      "cell_type": "code",
      "source": [
        "from helper_functions import accuracy_fn\n",
        "loss_fn = nn.CrossEntropyLoss()\n",
        "optimizer = torch.optim.SGD(params=model_2.parameters(),lr=0.1)"
      ],
      "metadata": {
        "id": "obDzwq8zIlci"
      },
      "execution_count": 46,
      "outputs": []
    },
    {
      "cell_type": "markdown",
      "source": [
        "##Setup the function of training and evaluation/testing loops"
      ],
      "metadata": {
        "id": "hb_U8u0QI_AB"
      }
    },
    {
      "cell_type": "code",
      "source": [
        "def train_step(model:torch.nn.Module,\n",
        "        data_loader:torch.utils.data.DataLoader,\n",
        "        loss_fn:torch.nn.Module,\n",
        "        optimizer:torch.optim.Optimizer,\n",
        "        accuracy_fn,\n",
        "        device = device):\n",
        "  train_loss,train_acc = 0,0\n",
        "  model.train()\n",
        "  for batch ,(X,y) in enumerate(data_loader):\n",
        "    X,y = X.to(device),y.to(device)\n",
        "    y_pred = model(X)\n",
        "    loss = loss_fn(y_pred,y)\n",
        "    train_loss += loss\n",
        "    train_acc += accuracy_fn(y_true=y,y_pred=y_pred.argmax(dim=1))\n",
        "\n",
        "    optimizer.zero_grad()\n",
        "    loss.backward()\n",
        "    optimizer.step()\n",
        "  train_loss /= len(data_loader)\n",
        "  train_acc /= len(data_loader)\n",
        "  print(f\"Train loss: {train_loss:.5f} | Train acc: {train_acc:.2f}%\")"
      ],
      "metadata": {
        "id": "WmAgFkZnIrhC"
      },
      "execution_count": 47,
      "outputs": []
    },
    {
      "cell_type": "code",
      "source": [
        "def test_step(model:torch.nn.Module,\n",
        "        data_loader:torch.utils.data.DataLoader,\n",
        "        loss_fn:torch.nn.Module,\n",
        "        accuracy_fn,\n",
        "        device = device):\n",
        "  test_loss,test_acc = 0,0\n",
        "  model.eval()\n",
        "  with torch.inference_mode():\n",
        "    for X,y in data_loader:\n",
        "      X,y = X.to(device),y.to(device)\n",
        "      test_pred = model(X)\n",
        "      loss = loss_fn(test_pred,y)\n",
        "      test_loss += loss\n",
        "      test_acc += accuracy_fn(y_true=y,y_pred=test_pred.argmax(dim=1))\n",
        "    test_loss /= len(data_loader)\n",
        "    test_acc /= len(data_loader)\n",
        "    print(f\"Test loss: {test_loss:.5f} | Test acc: {test_acc:.2f}%\")"
      ],
      "metadata": {
        "id": "i_t6c5vMK8E1"
      },
      "execution_count": 48,
      "outputs": []
    },
    {
      "cell_type": "code",
      "source": [
        "# 定义 print_train_time 函数\n",
        "def print_train_time(start, end, device):\n",
        "    elapsed_time = end - start\n",
        "    print(f\"Training time on {device}: {elapsed_time:.2f} seconds\")\n",
        "    return elapsed_time\n"
      ],
      "metadata": {
        "id": "LNRs5gsUQVJ4"
      },
      "execution_count": 49,
      "outputs": []
    },
    {
      "cell_type": "code",
      "source": [
        "torch.manual_seed(8)\n",
        "torch.cuda.manual_seed(8)\n",
        "\n",
        "from timeit import default_timer as timer\n",
        "train_time_start_model_2 = timer()\n",
        "\n",
        "epochs = 3\n",
        "for epoch in tqdm(range(epochs)):\n",
        "  print(f\"Epoch: {epoch}\\n------\")\n",
        "  ### Training\n",
        "  train_step(model=model_2,\n",
        "        data_loader = train_dataloader,\n",
        "        loss_fn = loss_fn,\n",
        "        optimizer =optimizer,\n",
        "        accuracy_fn = accuracy_fn,\n",
        "        device=device)\n",
        "  ### Testing\n",
        "  test_step(model=model_2,\n",
        "        data_loader = test_dataloader,\n",
        "        loss_fn = loss_fn,\n",
        "        accuracy_fn = accuracy_fn,\n",
        "        device = device)\n",
        "train_time_end_model_2 = timer()\n",
        "total_train_time_model_2 = print_train_time(start=train_time_start_model_2,\n",
        "                        end=train_time_end_model_2,\n",
        "                        device=device)"
      ],
      "metadata": {
        "colab": {
          "base_uri": "https://localhost:8080/",
          "height": 281,
          "referenced_widgets": [
            "136d6361aa664ff48c0e548282cf5656",
            "7962ea1f6ed948759448ed8aa780b0d5",
            "af3f5180c6ac454fb90646f453cf0be1",
            "49d67dba5b6b493a80bd2612b28f9006",
            "dbf3440cc5c14be0bbd71fcb4c32639e",
            "4d0ffe1977a745e4ac4d2450db606753",
            "88804e9ff55945f286f9ec8a638ee1c0",
            "ee6ddac107cb4359a7ee8831776d6497",
            "183352c424104b80900e85c7bdacd3b4",
            "a5c6ef4a22c947fab81da6462e271b3d",
            "35f5f2e3a56840c2a78248d8e84e1c56"
          ]
        },
        "id": "u5oQUXJHMiep",
        "outputId": "a572e520-5e8b-4967-defa-0976106a6f63"
      },
      "execution_count": 50,
      "outputs": [
        {
          "output_type": "display_data",
          "data": {
            "text/plain": [
              "  0%|          | 0/3 [00:00<?, ?it/s]"
            ],
            "application/vnd.jupyter.widget-view+json": {
              "version_major": 2,
              "version_minor": 0,
              "model_id": "136d6361aa664ff48c0e548282cf5656"
            }
          },
          "metadata": {}
        },
        {
          "output_type": "stream",
          "name": "stdout",
          "text": [
            "Epoch: 0\n",
            "------\n",
            "Train loss: 0.61881 | Train acc: 77.44%\n",
            "Test loss: 0.45050 | Test acc: 83.13%\n",
            "Epoch: 1\n",
            "------\n",
            "Train loss: 0.38602 | Train acc: 86.19%\n",
            "Test loss: 0.37406 | Test acc: 86.54%\n",
            "Epoch: 2\n",
            "------\n",
            "Train loss: 0.35292 | Train acc: 87.20%\n",
            "Test loss: 0.35144 | Test acc: 87.49%\n",
            "Training time on cpu: 190.36 seconds\n"
          ]
        }
      ]
    },
    {
      "cell_type": "code",
      "source": [
        "time = 0\n",
        "for i , j in test_dataloader:\n",
        "  time +=1\n",
        "print(time)"
      ],
      "metadata": {
        "colab": {
          "base_uri": "https://localhost:8080/"
        },
        "id": "4k-N-di2q2l2",
        "outputId": "639be6c4-464a-473a-961a-2cc1fec5d344"
      },
      "execution_count": 51,
      "outputs": [
        {
          "output_type": "stream",
          "name": "stdout",
          "text": [
            "313\n"
          ]
        }
      ]
    },
    {
      "cell_type": "markdown",
      "source": [
        "##Make and evaluate random predictions with best model"
      ],
      "metadata": {
        "id": "msmDRKmeQmvj"
      }
    },
    {
      "cell_type": "code",
      "source": [
        "def make_predictions(model:torch.nn.Module,\n",
        "           data:list,\n",
        "           device:torch.device = device):\n",
        "  pred_probs=[]\n",
        "  model.to(device)\n",
        "  model.eval()\n",
        "  with torch.inference_mode():\n",
        "    for sample in data:\n",
        "      #Prepare the sample(add a batch dimension and pass to target device)\n",
        "      sample = torch.unsqueeze(sample,dim=0).to(device)\n",
        "      pred_logits = model(sample)\n",
        "\n",
        "      pred_prob = torch.softmax(pred_logits.squeeze(),dim=0)\n",
        "      #Get pred_prob off the GPU for further calculations\n",
        "      pred_probs.append(pred_prob.cpu())\n",
        "  #Stack the pred_probs to turn list ito a tensor\n",
        "\n",
        "  return torch.stack(pred_probs)"
      ],
      "metadata": {
        "id": "ClN1qXhwN3V0"
      },
      "execution_count": 61,
      "outputs": []
    },
    {
      "cell_type": "code",
      "source": [
        "test_data"
      ],
      "metadata": {
        "colab": {
          "base_uri": "https://localhost:8080/"
        },
        "id": "pMlqig_gvZA5",
        "outputId": "f415260c-8d2a-4c94-b80a-1645a149cc59"
      },
      "execution_count": 62,
      "outputs": [
        {
          "output_type": "execute_result",
          "data": {
            "text/plain": [
              "Dataset FashionMNIST\n",
              "    Number of datapoints: 10000\n",
              "    Root location: data\n",
              "    Split: Test\n",
              "    StandardTransform\n",
              "Transform: ToTensor()"
            ]
          },
          "metadata": {},
          "execution_count": 62
        }
      ]
    },
    {
      "cell_type": "code",
      "source": [
        "test_data[0]"
      ],
      "metadata": {
        "colab": {
          "base_uri": "https://localhost:8080/"
        },
        "collapsed": true,
        "id": "AtNH-dm6vbCs",
        "outputId": "a50b10de-e7aa-4db9-8125-c40e55e53fa5"
      },
      "execution_count": 63,
      "outputs": [
        {
          "output_type": "execute_result",
          "data": {
            "text/plain": [
              "(tensor([[[0.0000, 0.0000, 0.0000, 0.0000, 0.0000, 0.0000, 0.0000, 0.0000,\n",
              "           0.0000, 0.0000, 0.0000, 0.0000, 0.0000, 0.0000, 0.0000, 0.0000,\n",
              "           0.0000, 0.0000, 0.0000, 0.0000, 0.0000, 0.0000, 0.0000, 0.0000,\n",
              "           0.0000, 0.0000, 0.0000, 0.0000],\n",
              "          [0.0000, 0.0000, 0.0000, 0.0000, 0.0000, 0.0000, 0.0000, 0.0000,\n",
              "           0.0000, 0.0000, 0.0000, 0.0000, 0.0000, 0.0000, 0.0000, 0.0000,\n",
              "           0.0000, 0.0000, 0.0000, 0.0000, 0.0000, 0.0000, 0.0000, 0.0000,\n",
              "           0.0000, 0.0000, 0.0000, 0.0000],\n",
              "          [0.0000, 0.0000, 0.0000, 0.0000, 0.0000, 0.0000, 0.0000, 0.0000,\n",
              "           0.0000, 0.0000, 0.0000, 0.0000, 0.0000, 0.0000, 0.0000, 0.0000,\n",
              "           0.0000, 0.0000, 0.0000, 0.0000, 0.0000, 0.0000, 0.0000, 0.0000,\n",
              "           0.0000, 0.0000, 0.0000, 0.0000],\n",
              "          [0.0000, 0.0000, 0.0000, 0.0000, 0.0000, 0.0000, 0.0000, 0.0000,\n",
              "           0.0000, 0.0000, 0.0000, 0.0000, 0.0000, 0.0000, 0.0000, 0.0000,\n",
              "           0.0000, 0.0000, 0.0000, 0.0000, 0.0000, 0.0000, 0.0000, 0.0000,\n",
              "           0.0000, 0.0000, 0.0000, 0.0000],\n",
              "          [0.0000, 0.0000, 0.0000, 0.0000, 0.0000, 0.0000, 0.0000, 0.0000,\n",
              "           0.0000, 0.0000, 0.0000, 0.0000, 0.0000, 0.0000, 0.0000, 0.0000,\n",
              "           0.0000, 0.0000, 0.0000, 0.0000, 0.0000, 0.0000, 0.0000, 0.0000,\n",
              "           0.0000, 0.0000, 0.0000, 0.0000],\n",
              "          [0.0000, 0.0000, 0.0000, 0.0000, 0.0000, 0.0000, 0.0000, 0.0000,\n",
              "           0.0000, 0.0000, 0.0000, 0.0000, 0.0000, 0.0000, 0.0000, 0.0000,\n",
              "           0.0000, 0.0000, 0.0000, 0.0000, 0.0000, 0.0000, 0.0000, 0.0000,\n",
              "           0.0000, 0.0000, 0.0000, 0.0000],\n",
              "          [0.0000, 0.0000, 0.0000, 0.0000, 0.0000, 0.0000, 0.0000, 0.0000,\n",
              "           0.0000, 0.0000, 0.0000, 0.0000, 0.0000, 0.0000, 0.0000, 0.0000,\n",
              "           0.0000, 0.0000, 0.0000, 0.0000, 0.0000, 0.0000, 0.0000, 0.0000,\n",
              "           0.0000, 0.0000, 0.0000, 0.0000],\n",
              "          [0.0000, 0.0000, 0.0000, 0.0000, 0.0000, 0.0000, 0.0000, 0.0000,\n",
              "           0.0000, 0.0000, 0.0000, 0.0000, 0.0000, 0.0000, 0.0000, 0.0000,\n",
              "           0.0000, 0.0000, 0.0000, 0.0118, 0.0039, 0.0000, 0.0000, 0.0275,\n",
              "           0.0000, 0.1451, 0.0000, 0.0000],\n",
              "          [0.0000, 0.0000, 0.0000, 0.0000, 0.0000, 0.0000, 0.0000, 0.0000,\n",
              "           0.0000, 0.0000, 0.0000, 0.0000, 0.0000, 0.0039, 0.0078, 0.0000,\n",
              "           0.1059, 0.3294, 0.0431, 0.0000, 0.0000, 0.0000, 0.0000, 0.0000,\n",
              "           0.0000, 0.4667, 0.0000, 0.0000],\n",
              "          [0.0000, 0.0000, 0.0000, 0.0000, 0.0000, 0.0000, 0.0000, 0.0000,\n",
              "           0.0000, 0.0000, 0.0000, 0.0000, 0.0000, 0.0039, 0.0000, 0.0000,\n",
              "           0.3451, 0.5608, 0.4314, 0.0000, 0.0000, 0.0000, 0.0000, 0.0863,\n",
              "           0.3647, 0.4157, 0.0000, 0.0000],\n",
              "          [0.0000, 0.0000, 0.0000, 0.0000, 0.0000, 0.0000, 0.0000, 0.0000,\n",
              "           0.0000, 0.0000, 0.0000, 0.0000, 0.0000, 0.0157, 0.0000, 0.2078,\n",
              "           0.5059, 0.4706, 0.5765, 0.6863, 0.6157, 0.6510, 0.5294, 0.6039,\n",
              "           0.6588, 0.5490, 0.0000, 0.0000],\n",
              "          [0.0000, 0.0000, 0.0000, 0.0000, 0.0000, 0.0000, 0.0000, 0.0000,\n",
              "           0.0000, 0.0000, 0.0000, 0.0000, 0.0078, 0.0000, 0.0431, 0.5373,\n",
              "           0.5098, 0.5020, 0.6275, 0.6902, 0.6235, 0.6549, 0.6980, 0.5843,\n",
              "           0.5922, 0.5647, 0.0000, 0.0000],\n",
              "          [0.0000, 0.0000, 0.0000, 0.0000, 0.0000, 0.0000, 0.0039, 0.0000,\n",
              "           0.0078, 0.0039, 0.0000, 0.0118, 0.0000, 0.0000, 0.4510, 0.4471,\n",
              "           0.4157, 0.5373, 0.6588, 0.6000, 0.6118, 0.6471, 0.6549, 0.5608,\n",
              "           0.6157, 0.6196, 0.0431, 0.0000],\n",
              "          [0.0000, 0.0000, 0.0000, 0.0000, 0.0039, 0.0000, 0.0000, 0.0000,\n",
              "           0.0000, 0.0000, 0.0118, 0.0000, 0.0000, 0.3490, 0.5451, 0.3529,\n",
              "           0.3686, 0.6000, 0.5843, 0.5137, 0.5922, 0.6627, 0.6745, 0.5608,\n",
              "           0.6235, 0.6627, 0.1882, 0.0000],\n",
              "          [0.0000, 0.0000, 0.0000, 0.0000, 0.0000, 0.0000, 0.0078, 0.0157,\n",
              "           0.0039, 0.0000, 0.0000, 0.0000, 0.3843, 0.5333, 0.4314, 0.4275,\n",
              "           0.4314, 0.6353, 0.5294, 0.5647, 0.5843, 0.6235, 0.6549, 0.5647,\n",
              "           0.6196, 0.6627, 0.4667, 0.0000],\n",
              "          [0.0000, 0.0000, 0.0078, 0.0078, 0.0039, 0.0078, 0.0000, 0.0000,\n",
              "           0.0000, 0.0000, 0.1020, 0.4235, 0.4588, 0.3882, 0.4353, 0.4588,\n",
              "           0.5333, 0.6118, 0.5255, 0.6039, 0.6039, 0.6118, 0.6275, 0.5529,\n",
              "           0.5765, 0.6118, 0.6980, 0.0000],\n",
              "          [0.0118, 0.0000, 0.0000, 0.0000, 0.0000, 0.0000, 0.0000, 0.0824,\n",
              "           0.2078, 0.3608, 0.4588, 0.4353, 0.4039, 0.4510, 0.5059, 0.5255,\n",
              "           0.5608, 0.6039, 0.6471, 0.6667, 0.6039, 0.5922, 0.6039, 0.5608,\n",
              "           0.5412, 0.5882, 0.6471, 0.1686],\n",
              "          [0.0000, 0.0000, 0.0902, 0.2118, 0.2549, 0.2980, 0.3333, 0.4627,\n",
              "           0.5020, 0.4824, 0.4353, 0.4431, 0.4627, 0.4980, 0.4902, 0.5451,\n",
              "           0.5216, 0.5333, 0.6275, 0.5490, 0.6078, 0.6314, 0.5647, 0.6078,\n",
              "           0.6745, 0.6314, 0.7412, 0.2431],\n",
              "          [0.0000, 0.2667, 0.3686, 0.3529, 0.4353, 0.4471, 0.4353, 0.4471,\n",
              "           0.4510, 0.4980, 0.5294, 0.5333, 0.5608, 0.4941, 0.4980, 0.5922,\n",
              "           0.6039, 0.5608, 0.5804, 0.4902, 0.6353, 0.6353, 0.5647, 0.5412,\n",
              "           0.6000, 0.6353, 0.7686, 0.2275],\n",
              "          [0.2745, 0.6627, 0.5059, 0.4078, 0.3843, 0.3922, 0.3686, 0.3804,\n",
              "           0.3843, 0.4000, 0.4235, 0.4157, 0.4667, 0.4706, 0.5059, 0.5843,\n",
              "           0.6118, 0.6549, 0.7451, 0.7451, 0.7686, 0.7765, 0.7765, 0.7333,\n",
              "           0.7725, 0.7412, 0.7216, 0.1412],\n",
              "          [0.0627, 0.4941, 0.6706, 0.7373, 0.7373, 0.7216, 0.6706, 0.6000,\n",
              "           0.5294, 0.4706, 0.4941, 0.4980, 0.5725, 0.7255, 0.7647, 0.8196,\n",
              "           0.8157, 1.0000, 0.8196, 0.6941, 0.9608, 0.9882, 0.9843, 0.9843,\n",
              "           0.9686, 0.8627, 0.8078, 0.1922],\n",
              "          [0.0000, 0.0000, 0.0000, 0.0471, 0.2627, 0.4157, 0.6431, 0.7255,\n",
              "           0.7804, 0.8235, 0.8275, 0.8235, 0.8157, 0.7451, 0.5882, 0.3216,\n",
              "           0.0314, 0.0000, 0.0000, 0.0000, 0.6980, 0.8157, 0.7373, 0.6863,\n",
              "           0.6353, 0.6196, 0.5922, 0.0431],\n",
              "          [0.0000, 0.0000, 0.0000, 0.0000, 0.0000, 0.0000, 0.0000, 0.0000,\n",
              "           0.0000, 0.0000, 0.0000, 0.0000, 0.0000, 0.0000, 0.0000, 0.0000,\n",
              "           0.0000, 0.0000, 0.0000, 0.0000, 0.0000, 0.0000, 0.0000, 0.0000,\n",
              "           0.0000, 0.0000, 0.0000, 0.0000],\n",
              "          [0.0000, 0.0000, 0.0000, 0.0000, 0.0000, 0.0000, 0.0000, 0.0000,\n",
              "           0.0000, 0.0000, 0.0000, 0.0000, 0.0000, 0.0000, 0.0000, 0.0000,\n",
              "           0.0000, 0.0000, 0.0000, 0.0000, 0.0000, 0.0000, 0.0000, 0.0000,\n",
              "           0.0000, 0.0000, 0.0000, 0.0000],\n",
              "          [0.0000, 0.0000, 0.0000, 0.0000, 0.0000, 0.0000, 0.0000, 0.0000,\n",
              "           0.0000, 0.0000, 0.0000, 0.0000, 0.0000, 0.0000, 0.0000, 0.0000,\n",
              "           0.0000, 0.0000, 0.0000, 0.0000, 0.0000, 0.0000, 0.0000, 0.0000,\n",
              "           0.0000, 0.0000, 0.0000, 0.0000],\n",
              "          [0.0000, 0.0000, 0.0000, 0.0000, 0.0000, 0.0000, 0.0000, 0.0000,\n",
              "           0.0000, 0.0000, 0.0000, 0.0000, 0.0000, 0.0000, 0.0000, 0.0000,\n",
              "           0.0000, 0.0000, 0.0000, 0.0000, 0.0000, 0.0000, 0.0000, 0.0000,\n",
              "           0.0000, 0.0000, 0.0000, 0.0000],\n",
              "          [0.0000, 0.0000, 0.0000, 0.0000, 0.0000, 0.0000, 0.0000, 0.0000,\n",
              "           0.0000, 0.0000, 0.0000, 0.0000, 0.0000, 0.0000, 0.0000, 0.0000,\n",
              "           0.0000, 0.0000, 0.0000, 0.0000, 0.0000, 0.0000, 0.0000, 0.0000,\n",
              "           0.0000, 0.0000, 0.0000, 0.0000],\n",
              "          [0.0000, 0.0000, 0.0000, 0.0000, 0.0000, 0.0000, 0.0000, 0.0000,\n",
              "           0.0000, 0.0000, 0.0000, 0.0000, 0.0000, 0.0000, 0.0000, 0.0000,\n",
              "           0.0000, 0.0000, 0.0000, 0.0000, 0.0000, 0.0000, 0.0000, 0.0000,\n",
              "           0.0000, 0.0000, 0.0000, 0.0000]]]),\n",
              " 9)"
            ]
          },
          "metadata": {},
          "execution_count": 63
        }
      ]
    },
    {
      "cell_type": "code",
      "source": [
        "import random\n",
        "random.seed(8)\n",
        "test_samples = []\n",
        "test_labels = []\n",
        "\n",
        "for sample,label in random.sample(list(test_data),k =9):\n",
        "   test_samples.append(sample)\n",
        "   test_labels.append(label)\n",
        "\n",
        "#View the first shape\n",
        "test_samples[0].shape"
      ],
      "metadata": {
        "colab": {
          "base_uri": "https://localhost:8080/"
        },
        "id": "6PWrY8snu7HA",
        "outputId": "cc060c09-4cd9-48b6-9b7c-47ecb8c75aa5"
      },
      "execution_count": 64,
      "outputs": [
        {
          "output_type": "execute_result",
          "data": {
            "text/plain": [
              "torch.Size([1, 28, 28])"
            ]
          },
          "metadata": {},
          "execution_count": 64
        }
      ]
    },
    {
      "cell_type": "code",
      "source": [
        "plt.imshow(test_samples[0].squeeze(),cmap=\"gray\")\n",
        "plt.title(class_names[test_labels[0]])"
      ],
      "metadata": {
        "colab": {
          "base_uri": "https://localhost:8080/",
          "height": 470
        },
        "id": "ptxMrKJrxvXd",
        "outputId": "7736d987-fa42-4dd4-efe4-29002c39d1d7"
      },
      "execution_count": 65,
      "outputs": [
        {
          "output_type": "execute_result",
          "data": {
            "text/plain": [
              "Text(0.5, 1.0, 'Pullover')"
            ]
          },
          "metadata": {},
          "execution_count": 65
        },
        {
          "output_type": "display_data",
          "data": {
            "text/plain": [
              "<Figure size 640x480 with 1 Axes>"
            ],
            "image/png": "[encoded data removed]"
          },
          "metadata": {}
        }
      ]
    },
    {
      "cell_type": "code",
      "source": [
        "#Make prediction\n",
        "pred_probs = make_predictions (model=model_2,\n",
        "                  data= test_samples)\n",
        "\n",
        "pred_probs[:2]"
      ],
      "metadata": {
        "colab": {
          "base_uri": "https://localhost:8080/"
        },
        "id": "A5Y5eTo9x3gE",
        "outputId": "ec2ca868-7680-458c-e7c5-1e979afe410d"
      },
      "execution_count": 66,
      "outputs": [
        {
          "output_type": "execute_result",
          "data": {
            "text/plain": [
              "tensor([[6.4784e-02, 2.1740e-03, 4.2073e-01, 1.4233e-01, 6.4708e-03, 1.9294e-05,\n",
              "         3.4711e-01, 2.6109e-05, 1.6241e-02, 1.2248e-04],\n",
              "        [3.5986e-03, 2.9912e-04, 7.1568e-01, 2.0969e-04, 1.5262e-01, 1.1864e-03,\n",
              "         1.2396e-01, 1.0516e-05, 2.0803e-03, 3.5814e-04]])"
            ]
          },
          "metadata": {},
          "execution_count": 66
        }
      ]
    },
    {
      "cell_type": "code",
      "source": [
        "test_labels"
      ],
      "metadata": {
        "colab": {
          "base_uri": "https://localhost:8080/"
        },
        "id": "RX04509FztTT",
        "outputId": "2c32d75f-b7a7-44bd-fc55-a72147579a89"
      },
      "execution_count": 68,
      "outputs": [
        {
          "output_type": "execute_result",
          "data": {
            "text/plain": [
              "[2, 2, 8, 6, 2, 7, 6, 7, 2]"
            ]
          },
          "metadata": {},
          "execution_count": 68
        }
      ]
    },
    {
      "cell_type": "code",
      "source": [
        "pred_classes = pred_probs.argmax(dim=1)\n",
        "pred_classes"
      ],
      "metadata": {
        "colab": {
          "base_uri": "https://localhost:8080/"
        },
        "id": "VngFXDZh0Orm",
        "outputId": "9e812748-d647-46e5-e5a7-c7f1382b65a4"
      },
      "execution_count": 69,
      "outputs": [
        {
          "output_type": "execute_result",
          "data": {
            "text/plain": [
              "tensor([2, 2, 8, 6, 8, 7, 6, 7, 2])"
            ]
          },
          "metadata": {},
          "execution_count": 69
        }
      ]
    },
    {
      "cell_type": "code",
      "source": [
        "plt.figure(figsize=(9, 9))\n",
        "nrows = 3\n",
        "ncols = 3\n",
        "for i, sample in enumerate(test_samples):\n",
        "  # Create subplot\n",
        "  plt.subplot(nrows, ncols, i+1)\n",
        "\n",
        "  # Plot the target image\n",
        "  plt.imshow(sample.squeeze(), cmap=\"gray\")\n",
        "\n",
        "  # Find the prediction (in text form, e.g \"Sandal\")\n",
        "  pred_label = class_names[pred_classes[i]]\n",
        "\n",
        "  # Get the truth label (in text form)\n",
        "  truth_label = class_names[test_labels[i]]\n",
        "\n",
        "  # Create a title for the plot\n",
        "  title_text = f\"Pred: {pred_label} | Truth: {truth_label}\"\n",
        "\n",
        "  # Check for equality between pred and truth and change color of title text\n",
        "  if pred_label == truth_label:\n",
        "    plt.title(title_text, fontsize=10, c=\"g\") # green text if prediction same as truth\n",
        "  else:\n",
        "    plt.title(title_text, fontsize=10, c=\"r\")\n",
        "\n",
        "  plt.axis(False);"
      ],
      "metadata": {
        "colab": {
          "base_uri": "https://localhost:8080/",
          "height": 668
        },
        "id": "sLg-6JMw0jtf",
        "outputId": "9117fa97-2c1e-45ad-c788-161daa5b099b"
      },
      "execution_count": 70,
      "outputs": [
        {
          "output_type": "display_data",
          "data": {
            "text/plain": [
              "<Figure size 900x900 with 9 Axes>"
            ],
            "image/png": "[encoded data removed]"
          },
          "metadata": {}
        }
      ]
    },
    {
      "cell_type": "markdown",
      "source": [
        "Making a confusion matrix (混淆矩阵) for further prediction evaluation"
      ],
      "metadata": {
        "id": "d-od3zgM0_Zh"
      }
    },
    {
      "cell_type": "code",
      "source": [
        "from tqdm.auto import tqdm\n",
        "y_preds=[]\n",
        "model_2.eval()\n",
        "with torch.inference_mode():\n",
        "  for X,y in tqdm(test_dataloader,desc=\"Making prediction...\"):\n",
        "    X,y = X.to(device),y.to(device)\n",
        "    y_logits = model_2(X)\n",
        "    y_pred = torch.softmax(y_logits.squeeze(),dim=0).argmax(dim=1)\n",
        "    y_preds.append(y_pred.cpu())\n",
        "print(y_preds)"
      ],
      "metadata": {
        "colab": {
          "base_uri": "https://localhost:8080/",
          "height": 1000,
          "referenced_widgets": [
            "d5ab59244eb14b14905545761ef36d65",
            "0b00c4c5c7a34dc9a44f534c11c42144",
            "dd6d296303aa44cf84fa171cfb52a4ba",
            "4cacb1937d914a349793f3bf7ff66c28",
            "541e4e2b2ef14c98a3623d2d46cd2a82",
            "fb742f6f2fb8428fb622303bc0adc8f0",
            "4dfa8adcec574526856b743727c980a0",
            "02466186229a4020be15dcbd20e4ddb2",
            "0f1b51f5fb8e4f6ca2282fe559a07a99",
            "e60da7a4b7e74f02b74f4f4eb28d6bf4",
            "b4e74ffc9f0f4087a9d6ddc961f7cee0"
          ]
        },
        "collapsed": true,
        "id": "3e_ZERBS09T2",
        "outputId": "e8ee5acd-6862-4060-da2c-968ddfa5f6b9"
      },
      "execution_count": 72,
      "outputs": [
        {
          "output_type": "display_data",
          "data": {
            "text/plain": [
              "Making prediction...:   0%|          | 0/313 [00:00<?, ?it/s]"
            ],
            "application/vnd.jupyter.widget-view+json": {
              "version_major": 2,
              "version_minor": 0,
              "model_id": "d5ab59244eb14b14905545761ef36d65"
            }
          },
          "metadata": {}
        },
        {
          "output_type": "stream",
          "name": "stdout",
          "text": [
            "[tensor([9, 2, 1, 1, 6, 1, 4, 6, 5, 7, 4, 5, 5, 3, 4, 1, 2, 6, 8, 0, 2, 5, 7, 5,\n",
            "        1, 6, 6, 0, 9, 3, 8, 8]), tensor([3, 3, 8, 0, 7, 5, 7, 9, 0, 1, 3, 9, 6, 7, 2, 3, 2, 6, 4, 2, 5, 8, 2, 2,\n",
            "        8, 4, 8, 0, 7, 7, 8, 5]), tensor([1, 3, 3, 3, 7, 8, 7, 6, 2, 6, 4, 3, 1, 2, 8, 4, 1, 8, 5, 9, 5, 0, 3, 2,\n",
            "        0, 6, 5, 3, 6, 7, 1, 6]), tensor([6, 1, 4, 2, 3, 6, 7, 6, 7, 8, 8, 9, 9, 4, 2, 5, 7, 6, 5, 2, 8, 4, 7, 8,\n",
            "        0, 0, 9, 9, 3, 0, 8, 4]), tensor([1, 5, 4, 1, 9, 1, 8, 6, 6, 1, 2, 5, 1, 6, 0, 0, 1, 6, 1, 3, 2, 2, 8, 8,\n",
            "        1, 4, 5, 6, 4, 7, 9, 3]), tensor([7, 2, 3, 8, 0, 9, 4, 7, 8, 2, 6, 5, 4, 1, 2, 8, 3, 0, 9, 1, 0, 9, 3, 6,\n",
            "        7, 9, 9, 4, 4, 7, 1, 2]), tensor([0, 6, 3, 2, 8, 3, 6, 1, 1, 0, 2, 9, 2, 4, 0, 7, 9, 8, 4, 1, 8, 4, 1, 3,\n",
            "        1, 6, 7, 2, 8, 5, 2, 0]), tensor([7, 7, 6, 6, 7, 0, 7, 8, 9, 2, 9, 0, 5, 1, 3, 2, 5, 4, 9, 2, 2, 8, 6, 4,\n",
            "        6, 2, 9, 7, 3, 5, 5, 4]), tensor([8, 5, 2, 3, 0, 4, 8, 6, 0, 6, 4, 8, 9, 6, 1, 3, 6, 2, 3, 0, 8, 3, 7, 4,\n",
            "        0, 1, 2, 4, 6, 6, 2, 7]), tensor([8, 3, 8, 9, 7, 6, 5, 5, 1, 9, 8, 3, 3, 3, 6, 8, 0, 0, 2, 9, 7, 7, 1, 3,\n",
            "        8, 6, 6, 4, 7, 1, 6, 4]), tensor([8, 2, 6, 5, 6, 2, 8, 7, 7, 8, 3, 8, 0, 7, 1, 3, 8, 8, 2, 8, 4, 0, 0, 1,\n",
            "        0, 1, 9, 4, 9, 9, 1, 7]), tensor([8, 3, 0, 0, 2, 4, 8, 0, 1, 4, 2, 4, 4, 7, 3, 2, 2, 8, 0, 7, 9, 4, 0, 9,\n",
            "        3, 9, 8, 2, 5, 6, 0, 3]), tensor([5, 8, 1, 6, 2, 2, 6, 4, 9, 5, 2, 0, 4, 6, 1, 2, 0, 9, 7, 0, 3, 4, 3, 3,\n",
            "        2, 3, 3, 6, 7, 3, 9, 4]), tensor([2, 1, 8, 4, 5, 3, 8, 5, 8, 6, 4, 8, 9, 8, 6, 2, 4, 4, 2, 4, 1, 6, 1, 3,\n",
            "        0, 7, 8, 8, 4, 9, 3, 1]), tensor([9, 5, 3, 3, 6, 1, 6, 2, 9, 4, 0, 6, 6, 4, 2, 0, 0, 3, 3, 8, 2, 8, 9, 4,\n",
            "        0, 7, 6, 4, 6, 9, 2, 9]), tensor([7, 9, 3, 9, 5, 9, 8, 1, 6, 0, 6, 6, 8, 9, 7, 9, 1, 2, 7, 6, 2, 0, 9, 7,\n",
            "        1, 8, 2, 2, 2, 2, 4, 4]), tensor([6, 1, 9, 0, 5, 1, 9, 1, 2, 8, 3, 6, 7, 2, 6, 6, 8, 0, 2, 0, 5, 0, 7, 5,\n",
            "        0, 9, 4, 3, 4, 2, 5, 1]), tensor([0, 1, 2, 6, 2, 9, 2, 1, 3, 3, 3, 1, 9, 3, 4, 5, 3, 6, 2, 6, 4, 6, 0, 3,\n",
            "        8, 2, 3, 4, 6, 7, 7, 8]), tensor([9, 6, 3, 8, 7, 6, 7, 9, 3, 2, 6, 3, 8, 0, 1, 1, 5, 9, 3, 2, 5, 7, 8, 1,\n",
            "        2, 9, 7, 7, 1, 0, 9, 3]), tensor([4, 9, 0, 5, 6, 8, 2, 7, 1, 2, 3, 8, 2, 4, 6, 9, 3, 0, 7, 8, 6, 2, 9, 4,\n",
            "        1, 6, 4, 1, 0, 1, 4, 1]), tensor([7, 7, 8, 3, 9, 1, 0, 3, 4, 4, 4, 6, 0, 4, 7, 6, 0, 3, 5, 2, 1, 3, 1, 3,\n",
            "        2, 2, 3, 8, 2, 8, 6, 7]), tensor([0, 4, 6, 8, 5, 0, 3, 2, 9, 1, 8, 7, 6, 3, 4, 9, 6, 4, 5, 0, 9, 5, 3, 6,\n",
            "        6, 2, 1, 3, 8, 1, 2, 0]), tensor([9, 7, 9, 4, 8, 9, 1, 3, 7, 3, 0, 2, 6, 7, 1, 6, 0, 8, 5, 2, 2, 4, 6, 4,\n",
            "        1, 5, 9, 0, 3, 3, 6, 5]), tensor([6, 3, 3, 3, 3, 8, 1, 1, 8, 5, 7, 9, 8, 7, 2, 6, 7, 3, 8, 0, 9, 7, 6, 1,\n",
            "        6, 2, 4, 8, 2, 6, 3, 6]), tensor([8, 4, 0, 8, 9, 2, 3, 5, 9, 1, 6, 4, 9, 2, 3, 7, 9, 3, 8, 3, 7, 7, 1, 1,\n",
            "        1, 6, 9, 5, 3, 8, 6, 2]), tensor([9, 0, 8, 3, 2, 2, 0, 7, 1, 4, 9, 0, 5, 8, 5, 4, 7, 2, 8, 5, 9, 3, 3, 6,\n",
            "        7, 1, 7, 0, 8, 4, 6, 0]), tensor([8, 3, 7, 1, 2, 6, 1, 9, 8, 4, 7, 1, 3, 7, 8, 9, 9, 4, 8, 4, 5, 7, 4, 9,\n",
            "        8, 1, 0, 0, 4, 4, 7, 1]), tensor([4, 8, 7, 1, 5, 2, 2, 3, 3, 1, 1, 4, 9, 2, 3, 7, 7, 6, 8, 9, 9, 6, 1, 3,\n",
            "        4, 0, 0, 5, 9, 4, 0, 5]), tensor([5, 1, 9, 7, 8, 7, 9, 3, 6, 4, 0, 4, 0, 2, 0, 2, 5, 5, 1, 2, 0, 9, 3, 7,\n",
            "        8, 4, 8, 3, 4, 7, 0, 7]), tensor([4, 8, 8, 3, 4, 2, 3, 4, 9, 6, 2, 4, 9, 1, 8, 1, 7, 5, 5, 6, 6, 2, 1, 6,\n",
            "        5, 4, 0, 0, 2, 7, 5, 6]), tensor([2, 5, 9, 4, 8, 2, 6, 4, 0, 2, 9, 6, 7, 7, 1, 4, 4, 6, 5, 0, 9, 9, 8, 8,\n",
            "        2, 6, 2, 4, 6, 6, 3, 2]), tensor([3, 7, 4, 9, 3, 4, 7, 7, 6, 3, 5, 5, 2, 4, 5, 9, 6, 3, 7, 5, 1, 9, 8, 8,\n",
            "        0, 9, 2, 7, 2, 2, 3, 8]), tensor([7, 4, 4, 5, 4, 8, 6, 1, 4, 9, 3, 1, 6, 8, 0, 8, 7, 5, 2, 3, 3, 8, 8, 3,\n",
            "        6, 0, 4, 8, 0, 4, 8, 2]), tensor([6, 3, 4, 7, 0, 2, 1, 1, 3, 6, 8, 5, 9, 0, 1, 6, 5, 1, 4, 4, 8, 4, 7, 7,\n",
            "        3, 8, 3, 1, 9, 8, 1, 3]), tensor([3, 7, 5, 0, 5, 7, 8, 9, 6, 0, 5, 8, 2, 6, 3, 8, 6, 0, 5, 2, 7, 1, 5, 3,\n",
            "        5, 4, 8, 6, 2, 1, 1, 7]), tensor([9, 1, 1, 7, 1, 4, 8, 2, 1, 0, 1, 4, 4, 9, 6, 8, 4, 5, 9, 0, 3, 9, 1, 9,\n",
            "        8, 7, 1, 2, 2, 5, 3, 7]), tensor([6, 7, 4, 9, 3, 7, 0, 9, 3, 8, 4, 4, 7, 6, 4, 6, 2, 0, 7, 8, 4, 2, 4, 8,\n",
            "        5, 6, 4, 5, 5, 8, 1, 3]), tensor([7, 4, 6, 9, 6, 8, 7, 2, 2, 1, 6, 7, 7, 4, 8, 8, 5, 1, 3, 3, 2, 3, 8, 0,\n",
            "        1, 9, 3, 8, 5, 3, 0, 7]), tensor([0, 6, 3, 1, 3, 1, 3, 6, 7, 2, 4, 9, 5, 2, 9, 6, 3, 4, 4, 0, 8, 8, 2, 2,\n",
            "        5, 6, 1, 8, 2, 7, 4, 3]), tensor([8, 3, 2, 4, 0, 6, 4, 6, 2, 3, 8, 2, 0, 4, 4, 8, 8, 4, 7, 2, 2, 3, 0, 1,\n",
            "        7, 0, 9, 1, 7, 3, 5, 2]), tensor([2, 7, 3, 8, 9, 6, 6, 6, 7, 5, 8, 9, 9, 0, 0, 0, 3, 2, 4, 4, 9, 7, 1, 3,\n",
            "        4, 6, 2, 9, 1, 2, 7, 3]), tensor([4, 8, 8, 4, 8, 7, 3, 1, 6, 5, 2, 7, 0, 5, 6, 8, 5, 2, 2, 8, 9, 8, 3, 3,\n",
            "        0, 8, 8, 3, 0, 9, 4, 4]), tensor([8, 1, 3, 6, 1, 9, 2, 1, 6, 2, 7, 9, 2, 6, 0, 4, 4, 2, 4, 5, 0, 2, 8, 3,\n",
            "        7, 4, 4, 0, 0, 5, 4, 8]), tensor([2, 4, 4, 0, 2, 1, 7, 9, 5, 4, 7, 2, 6, 7, 3, 0, 1, 3, 4, 6, 6, 1, 9, 6,\n",
            "        4, 7, 1, 0, 6, 5, 8, 4]), tensor([8, 7, 9, 8, 0, 7, 9, 8, 3, 2, 8, 5, 8, 3, 9, 9, 1, 2, 7, 8, 0, 1, 7, 2,\n",
            "        7, 1, 3, 5, 5, 6, 4, 8]), tensor([9, 5, 5, 2, 3, 9, 3, 8, 5, 4, 6, 3, 6, 5, 7, 4, 8, 2, 6, 4, 4, 7, 6, 0,\n",
            "        5, 1, 7, 2, 3, 6, 8, 9]), tensor([8, 7, 1, 6, 8, 2, 9, 8, 5, 6, 8, 0, 8, 1, 2, 4, 9, 3, 6, 4, 4, 8, 0, 0,\n",
            "        8, 3, 6, 1, 3, 5, 6, 5]), tensor([3, 9, 1, 1, 8, 2, 9, 5, 0, 7, 4, 6, 7, 1, 4, 5, 3, 8, 7, 8, 3, 8, 9, 2,\n",
            "        2, 1, 4, 3, 5, 2, 7, 1]), tensor([9, 6, 2, 4, 7, 0, 1, 3, 9, 6, 3, 9, 2, 8, 1, 8, 0, 7, 9, 8, 5, 8, 2, 6,\n",
            "        4, 0, 6, 5, 8, 3, 8, 5]), tensor([8, 7, 3, 7, 6, 7, 0, 4, 2, 8, 3, 5, 1, 1, 7, 7, 6, 6, 6, 4, 0, 8, 6, 4,\n",
            "        1, 4, 9, 9, 4, 5, 2, 2]), tensor([7, 8, 0, 7, 9, 1, 2, 9, 4, 5, 3, 4, 3, 3, 1, 8, 5, 5, 3, 8, 6, 6, 4, 0,\n",
            "        2, 0, 2, 7, 3, 6, 8, 3]), tensor([9, 7, 3, 1, 7, 5, 8, 8, 2, 3, 0, 4, 4, 8, 3, 7, 0, 6, 2, 7, 9, 3, 9, 4,\n",
            "        5, 9, 7, 3, 7, 2, 4, 5]), tensor([1, 3, 7, 4, 5, 0, 4, 4, 1, 4, 4, 8, 4, 7, 9, 4, 1, 1, 7, 2, 3, 5, 6, 3,\n",
            "        9, 7, 6, 3, 8, 8, 8, 7]), tensor([1, 1, 6, 3, 1, 4, 3, 4, 9, 5, 6, 0, 6, 9, 4, 9, 6, 6, 3, 8, 9, 2, 5, 4,\n",
            "        8, 6, 7, 2, 3, 6, 4, 5]), tensor([6, 1, 9, 3, 4, 2, 5, 9, 0, 8, 3, 6, 0, 6, 0, 4, 2, 2, 6, 5, 0, 2, 7, 8,\n",
            "        7, 4, 3, 0, 0, 5, 2, 4]), tensor([2, 9, 5, 2, 6, 7, 0, 1, 9, 8, 5, 0, 7, 7, 5, 0, 5, 6, 3, 4, 7, 9, 8, 2,\n",
            "        4, 7, 3, 3, 7, 7, 7, 8]), tensor([4, 9, 5, 7, 6, 5, 7, 5, 1, 3, 0, 4, 9, 9, 8, 3, 7, 6, 4, 4, 9, 3, 3, 1,\n",
            "        9, 9, 1, 8, 7, 2, 8, 6]), tensor([5, 7, 3, 7, 5, 5, 4, 0, 7, 3, 3, 2, 6, 2, 9, 9, 0, 6, 6, 8, 3, 8, 6, 4,\n",
            "        4, 1, 8, 2, 8, 5, 6, 4]), tensor([2, 3, 0, 6, 1, 6, 8, 4, 9, 0, 7, 6, 7, 7, 1, 5, 8, 7, 2, 9, 9, 1, 2, 6,\n",
            "        1, 1, 1, 8, 8, 1, 4, 7]), tensor([5, 2, 0, 8, 4, 8, 9, 4, 1, 3, 4, 9, 8, 1, 3, 1, 8, 6, 9, 9, 7, 6, 3, 4,\n",
            "        4, 1, 1, 7, 7, 4, 2, 0]), tensor([3, 6, 4, 8, 1, 9, 2, 4, 4, 2, 3, 8, 7, 1, 8, 7, 5, 9, 9, 6, 6, 4, 9, 6,\n",
            "        4, 3, 5, 5, 3, 2, 1, 0]), tensor([3, 5, 9, 3, 7, 4, 5, 7, 9, 8, 9, 1, 4, 8, 3, 2, 3, 6, 0, 8, 3, 8, 6, 8,\n",
            "        6, 0, 8, 8, 2, 2, 9, 3]), tensor([2, 0, 8, 5, 9, 0, 3, 1, 1, 9, 5, 1, 3, 3, 4, 0, 8, 4, 1, 3, 8, 8, 0, 7,\n",
            "        5, 6, 6, 7, 3, 3, 2, 4]), tensor([6, 5, 8, 6, 2, 3, 9, 1, 1, 7, 3, 8, 7, 2, 2, 9, 3, 9, 9, 0, 1, 7, 1, 3,\n",
            "        8, 1, 6, 9, 3, 4, 0, 0]), tensor([5, 6, 9, 9, 5, 5, 7, 0, 9, 3, 3, 6, 9, 8, 4, 2, 2, 3, 9, 2, 3, 2, 7, 4,\n",
            "        0, 3, 8, 1, 8, 7, 4, 4]), tensor([5, 2, 2, 9, 3, 7, 4, 9, 1, 6, 2, 8, 8, 7, 7, 7, 7, 2, 6, 0, 7, 5, 8, 5,\n",
            "        3, 0, 4, 3, 9, 2, 4, 3]), tensor([1, 9, 0, 8, 2, 2, 2, 3, 7, 8, 7, 8, 2, 4, 1, 2, 8, 5, 4, 8, 9, 1, 8, 9,\n",
            "        8, 6, 6, 8, 0, 1, 8, 7]), tensor([4, 6, 7, 7, 3, 6, 4, 3, 4, 7, 8, 7, 2, 8, 0, 8, 7, 4, 4, 2, 7, 0, 9, 9,\n",
            "        3, 1, 5, 9, 3, 1, 0, 3]), tensor([3, 8, 9, 7, 9, 8, 3, 8, 9, 3, 7, 9, 3, 6, 6, 0, 5, 7, 8, 2, 3, 8, 3, 1,\n",
            "        1, 9, 4, 3, 9, 8, 8, 7]), tensor([2, 4, 9, 0, 2, 1, 9, 7, 1, 5, 6, 8, 5, 8, 3, 8, 0, 3, 3, 7, 4, 2, 6, 8,\n",
            "        7, 9, 2, 1, 3, 5, 8, 8]), tensor([5, 3, 7, 4, 4, 3, 9, 6, 0, 3, 9, 1, 4, 3, 1, 5, 3, 8, 5, 1, 1, 2, 9, 4,\n",
            "        0, 5, 2, 8, 6, 2, 9, 8]), tensor([4, 4, 8, 3, 8, 0, 4, 3, 6, 4, 8, 5, 4, 9, 6, 9, 5, 8, 6, 9, 1, 2, 7, 2,\n",
            "        1, 6, 6, 3, 4, 5, 2, 2]), tensor([8, 7, 5, 2, 6, 6, 8, 3, 6, 1, 9, 2, 7, 7, 2, 6, 4, 8, 3, 4, 8, 5, 6, 8,\n",
            "        3, 3, 1, 4, 2, 0, 4, 9]), tensor([6, 2, 1, 9, 9, 8, 1, 4, 8, 3, 3, 3, 2, 5, 9, 2, 2, 8, 7, 6, 3, 6, 6, 4,\n",
            "        5, 7, 5, 0, 7, 9, 1, 2]), tensor([4, 8, 9, 3, 5, 2, 2, 4, 4, 7, 8, 9, 1, 8, 2, 5, 5, 3, 1, 1, 8, 8, 3, 6,\n",
            "        7, 0, 1, 8, 6, 6, 4, 9]), tensor([8, 9, 8, 8, 4, 9, 1, 8, 4, 2, 7, 7, 0, 5, 1, 1, 0, 6, 2, 3, 0, 2, 3, 5,\n",
            "        1, 2, 3, 3, 4, 4, 5, 6]), tensor([9, 8, 3, 4, 1, 0, 2, 1, 2, 4, 2, 8, 2, 9, 0, 7, 7, 5, 6, 6, 0, 7, 0, 4,\n",
            "        9, 7, 3, 6, 1, 9, 4, 1]), tensor([0, 4, 5, 4, 1, 4, 8, 5, 9, 4, 5, 3, 3, 8, 3, 6, 3, 8, 9, 0, 5, 6, 2, 4,\n",
            "        7, 3, 2, 2, 8, 7, 9, 2]), tensor([3, 1, 6, 3, 6, 2, 7, 4, 1, 2, 6, 4, 6, 2, 8, 5, 0, 8, 8, 6, 7, 8, 1, 5,\n",
            "        9, 8, 6, 9, 0, 9, 3, 7]), tensor([5, 7, 9, 6, 0, 7, 1, 5, 5, 9, 5, 4, 4, 2, 6, 5, 9, 7, 4, 2, 6, 9, 9, 3,\n",
            "        2, 1, 3, 7, 3, 8, 7, 7]), tensor([1, 8, 9, 3, 7, 7, 7, 1, 7, 4, 4, 6, 2, 4, 5, 2, 8, 9, 6, 8, 6, 0, 7, 7,\n",
            "        5, 0, 1, 9, 3, 6, 4, 9]), tensor([2, 6, 6, 9, 1, 0, 5, 8, 9, 2, 8, 2, 3, 6, 0, 7, 4, 8, 7, 4, 1, 7, 8, 2,\n",
            "        4, 0, 4, 6, 1, 8, 6, 9]), tensor([4, 9, 6, 5, 2, 3, 3, 8, 4, 2, 0, 7, 2, 4, 0, 3, 1, 3, 8, 1, 7, 7, 2, 6,\n",
            "        3, 4, 2, 7, 2, 6, 0, 3]), tensor([2, 7, 2, 8, 3, 2, 3, 0, 9, 7, 3, 8, 4, 9, 2, 4, 5, 0, 6, 8, 4, 0, 4, 4,\n",
            "        6, 6, 1, 6, 4, 6, 7, 1]), tensor([0, 6, 4, 1, 1, 5, 2, 3, 8, 3, 4, 1, 7, 2, 9, 8, 8, 4, 7, 5, 6, 7, 2, 9,\n",
            "        1, 0, 5, 3, 7, 2, 1, 1]), tensor([8, 6, 2, 0, 5, 9, 6, 3, 8, 1, 3, 4, 6, 2, 2, 8, 3, 4, 2, 1, 9, 3, 7, 9,\n",
            "        5, 7, 2, 1, 5, 8, 8, 2]), tensor([2, 4, 6, 3, 1, 2, 3, 0, 3, 9, 8, 4, 0, 8, 4, 3, 9, 7, 1, 1, 7, 5, 1, 9,\n",
            "        2, 4, 2, 3, 8, 6, 7, 1]), tensor([3, 0, 7, 3, 5, 8, 1, 4, 2, 3, 4, 8, 8, 8, 4, 4, 1, 8, 9, 3, 0, 6, 6, 2,\n",
            "        9, 7, 3, 7, 0, 1, 2, 5]), tensor([9, 6, 6, 8, 0, 5, 8, 7, 3, 6, 2, 8, 6, 0, 9, 3, 6, 5, 8, 1, 1, 4, 6, 0,\n",
            "        4, 8, 4, 2, 3, 3, 9, 7]), tensor([4, 4, 3, 1, 8, 1, 5, 4, 0, 6, 7, 9, 3, 2, 7, 1, 7, 4, 1, 4, 2, 6, 6, 7,\n",
            "        6, 4, 9, 3, 2, 9, 2, 8]), tensor([6, 2, 6, 7, 4, 2, 1, 1, 0, 3, 5, 5, 2, 6, 4, 1, 8, 8, 4, 4, 3, 4, 2, 7,\n",
            "        6, 3, 9, 6, 2, 3, 6, 4]), tensor([5, 4, 9, 8, 1, 6, 3, 6, 4, 9, 4, 3, 5, 1, 4, 6, 0, 1, 1, 0, 2, 6, 5, 7,\n",
            "        0, 1, 2, 4, 3, 7, 2, 1]), tensor([1, 7, 7, 8, 7, 6, 7, 3, 7, 2, 0, 9, 4, 1, 4, 2, 2, 5, 8, 5, 2, 7, 4, 4,\n",
            "        6, 9, 0, 8, 1, 3, 8, 2]), tensor([8, 2, 0, 2, 3, 8, 7, 8, 2, 2, 6, 6, 6, 4, 5, 3, 4, 1, 1, 9, 7, 6, 4, 2,\n",
            "        1, 4, 2, 7, 7, 1, 8, 3]), tensor([3, 7, 9, 8, 7, 2, 7, 9, 7, 2, 2, 4, 6, 3, 3, 9, 1, 1, 4, 8, 0, 4, 7, 5,\n",
            "        4, 8, 8, 3, 6, 3, 6, 8]), tensor([2, 4, 5, 9, 2, 4, 8, 4, 2, 4, 3, 4, 2, 2, 3, 6, 1, 8, 4, 4, 5, 8, 1, 5,\n",
            "        8, 0, 7, 7, 7, 5, 6, 5]), tensor([5, 3, 6, 7, 8, 4, 5, 1, 6, 6, 2, 4, 3, 7, 7, 9, 9, 2, 5, 8, 7, 8, 9, 3,\n",
            "        0, 9, 7, 2, 0, 6, 8, 6]), tensor([0, 5, 4, 7, 6, 5, 4, 9, 0, 6, 4, 0, 2, 9, 8, 1, 3, 8, 1, 9, 3, 6, 1, 1,\n",
            "        6, 6, 9, 5, 2, 2, 2, 7]), tensor([7, 1, 3, 0, 3, 0, 7, 8, 7, 6, 5, 2, 6, 7, 5, 5, 8, 9, 7, 3, 2, 4, 8, 3,\n",
            "        9, 5, 7, 6, 2, 2, 7, 3]), tensor([8, 5, 1, 8, 9, 2, 2, 1, 4, 2, 7, 2, 0, 4, 4, 8, 9, 7, 9, 3, 2, 8, 4, 6,\n",
            "        0, 6, 3, 3, 1, 5, 2, 7]), tensor([5, 3, 7, 2, 2, 3, 5, 1, 1, 2, 7, 3, 8, 8, 7, 7, 6, 9, 5, 5, 3, 0, 7, 1,\n",
            "        4, 6, 6, 9, 9, 6, 6, 8]), tensor([0, 5, 7, 8, 0, 2, 7, 6, 4, 2, 8, 1, 6, 4, 8, 0, 7, 5, 8, 9, 9, 5, 5, 3,\n",
            "        7, 6, 3, 2, 6, 3, 4, 2]), tensor([6, 8, 9, 4, 5, 2, 3, 1, 2, 8, 7, 0, 5, 6, 2, 5, 6, 3, 8, 6, 8, 7, 2, 7,\n",
            "        2, 3, 4, 7, 1, 6, 3, 4]), tensor([2, 4, 3, 9, 9, 2, 8, 0, 4, 6, 6, 1, 9, 3, 9, 6, 8, 2, 9, 4, 7, 9, 1, 5,\n",
            "        8, 1, 3, 6, 2, 4, 8, 6]), tensor([3, 3, 0, 0, 6, 3, 3, 1, 4, 9, 4, 9, 3, 0, 6, 5, 8, 8, 8, 6, 1, 0, 8, 9,\n",
            "        8, 5, 8, 9, 6, 7, 2, 7]), tensor([3, 6, 5, 8, 3, 4, 8, 5, 9, 9, 4, 0, 6, 7, 1, 8, 8, 8, 7, 2, 0, 9, 7, 9,\n",
            "        6, 9, 4, 1, 4, 7, 2, 5]), tensor([2, 6, 2, 9, 0, 7, 1, 9, 7, 2, 5, 3, 8, 4, 9, 3, 7, 5, 7, 5, 1, 3, 3, 6,\n",
            "        0, 7, 7, 3, 5, 5, 8, 7]), tensor([9, 4, 6, 5, 5, 3, 4, 8, 3, 0, 9, 2, 3, 2, 2, 9, 4, 6, 9, 1, 4, 8, 1, 4,\n",
            "        9, 8, 2, 6, 7, 4, 0, 2]), tensor([6, 3, 2, 3, 0, 5, 2, 3, 2, 8, 5, 6, 7, 4, 6, 4, 8, 3, 5, 1, 3, 9, 1, 6,\n",
            "        9, 3, 7, 4, 2, 6, 2, 5]), tensor([6, 3, 5, 4, 3, 1, 7, 9, 4, 6, 7, 3, 0, 2, 8, 1, 0, 9, 9, 7, 8, 4, 6, 9,\n",
            "        7, 7, 5, 8, 8, 7, 5, 3]), tensor([5, 5, 0, 8, 9, 7, 2, 1, 4, 7, 1, 3, 4, 3, 2, 6, 9, 4, 7, 7, 6, 5, 0, 8,\n",
            "        8, 6, 8, 5, 6, 0, 7, 3]), tensor([6, 6, 4, 5, 2, 0, 7, 8, 8, 1, 8, 2, 1, 8, 5, 4, 4, 8, 7, 7, 6, 7, 1, 6,\n",
            "        9, 8, 3, 9, 3, 8, 0, 7]), tensor([4, 2, 6, 1, 6, 5, 9, 3, 2, 8, 5, 7, 3, 1, 2, 6, 8, 1, 8, 5, 6, 9, 3, 3,\n",
            "        6, 6, 4, 2, 0, 3, 4, 2]), tensor([3, 2, 5, 9, 1, 1, 9, 4, 7, 0, 3, 1, 0, 0, 7, 7, 0, 7, 8, 6, 5, 6, 4, 3,\n",
            "        8, 9, 7, 2, 9, 5, 3, 7]), tensor([2, 6, 1, 9, 7, 8, 1, 0, 9, 3, 6, 7, 8, 6, 5, 6, 7, 9, 9, 7, 0, 4, 2, 3,\n",
            "        4, 0, 7, 5, 3, 9, 2, 8]), tensor([8, 6, 0, 4, 1, 9, 3, 3, 5, 1, 7, 5, 9, 6, 8, 7, 5, 9, 5, 6, 0, 7, 3, 8,\n",
            "        2, 2, 6, 7, 6, 8, 1, 9]), tensor([2, 6, 2, 4, 2, 8, 7, 7, 4, 9, 3, 9, 6, 8, 2, 6, 9, 0, 3, 2, 5, 5, 0, 4,\n",
            "        6, 4, 1, 3, 1, 8, 7, 8]), tensor([8, 9, 7, 6, 5, 7, 3, 4, 6, 4, 6, 3, 6, 8, 8, 8, 6, 2, 3, 2, 8, 2, 1, 4,\n",
            "        1, 1, 6, 3, 2, 2, 8, 0]), tensor([6, 2, 1, 3, 2, 5, 0, 6, 7, 9, 9, 2, 5, 2, 9, 9, 8, 4, 8, 3, 2, 0, 9, 6,\n",
            "        2, 4, 3, 8, 2, 6, 6, 5]), tensor([6, 4, 7, 3, 7, 8, 8, 2, 4, 8, 8, 6, 1, 5, 8, 9, 8, 7, 2, 0, 3, 0, 3, 0,\n",
            "        7, 3, 9, 9, 1, 5, 9, 3]), tensor([1, 7, 6, 1, 0, 5, 3, 8, 2, 4, 1, 7, 0, 5, 0, 4, 1, 7, 1, 7, 9, 4, 3, 9,\n",
            "        2, 2, 5, 3, 5, 8, 8, 4]), tensor([4, 7, 7, 4, 2, 0, 3, 5, 3, 6, 2, 5, 2, 8, 5, 6, 9, 1, 3, 1, 4, 5, 9, 3,\n",
            "        9, 0, 3, 5, 6, 1, 3, 8]), tensor([5, 4, 0, 9, 1, 9, 1, 7, 1, 8, 6, 3, 4, 6, 2, 0, 3, 3, 8, 8, 0, 3, 4, 8,\n",
            "        1, 4, 3, 3, 4, 2, 1, 8]), tensor([0, 2, 0, 6, 4, 2, 3, 9, 2, 3, 0, 4, 5, 7, 1, 6, 1, 5, 0, 0, 8, 5, 1, 6,\n",
            "        5, 2, 8, 1, 7, 1, 6, 6]), tensor([9, 4, 6, 1, 5, 3, 3, 5, 8, 7, 7, 7, 2, 7, 5, 4, 4, 2, 6, 6, 8, 9, 9, 3,\n",
            "        8, 0, 4, 4, 1, 3, 7, 3]), tensor([6, 0, 9, 8, 5, 3, 6, 7, 1, 9, 7, 8, 4, 6, 9, 9, 1, 2, 2, 3, 2, 4, 5, 1,\n",
            "        6, 2, 8, 3, 4, 8, 3, 4]), tensor([0, 0, 3, 6, 7, 4, 4, 1, 7, 3, 6, 7, 9, 9, 1, 7, 8, 9, 1, 4, 6, 1, 2, 8,\n",
            "        3, 5, 9, 8, 6, 6, 2, 7]), tensor([2, 7, 5, 0, 8, 7, 8, 1, 4, 9, 2, 5, 5, 9, 9, 4, 4, 1, 1, 0, 3, 8, 7, 6,\n",
            "        1, 7, 5, 2, 9, 0, 3, 4]), tensor([4, 8, 4, 6, 6, 7, 3, 7, 3, 6, 4, 8, 6, 6, 2, 3, 2, 5, 5, 8, 0, 7, 0, 8,\n",
            "        9, 0, 2, 1, 2, 5, 3, 3]), tensor([4, 7, 6, 4, 8, 9, 1, 4, 3, 1, 6, 8, 0, 3, 0, 6, 2, 0, 2, 3, 6, 7, 2, 3,\n",
            "        6, 0, 8, 5, 4, 0, 1, 0]), tensor([2, 2, 6, 7, 9, 6, 4, 4, 3, 0, 8, 7, 4, 4, 0, 3, 3, 5, 2, 5, 1, 8, 7, 1,\n",
            "        7, 7, 2, 4, 8, 8, 0, 9]), tensor([6, 6, 0, 3, 4, 1, 8, 3, 4, 2, 1, 2, 0, 3, 0, 8, 5, 1, 7, 0, 2, 6, 3, 9,\n",
            "        8, 4, 8, 1, 0, 2, 4, 2]), tensor([0, 3, 7, 5, 0, 6, 2, 0, 8, 2, 2, 1, 3, 6, 4, 2, 9, 2, 4, 8, 5, 4, 7, 3,\n",
            "        2, 4, 0, 6, 4, 8, 5, 4]), tensor([1, 5, 2, 8, 2, 9, 3, 6, 3, 6, 4, 2, 7, 7, 9, 6, 4, 8, 8, 3, 5, 8, 7, 7,\n",
            "        0, 7, 7, 0, 7, 7, 2, 8]), tensor([5, 4, 2, 2, 4, 8, 0, 1, 9, 5, 0, 6, 2, 4, 3, 8, 0, 7, 6, 4, 3, 8, 1, 3,\n",
            "        8, 7, 3, 6, 3, 4, 8, 8]), tensor([9, 1, 3, 2, 1, 4, 8, 3, 4, 6, 7, 3, 9, 2, 9, 0, 4, 6, 5, 7, 0, 8, 1, 7,\n",
            "        5, 4, 9, 5, 7, 3, 2, 0]), tensor([9, 8, 7, 3, 7, 7, 4, 7, 8, 8, 8, 2, 4, 6, 2, 3, 8, 9, 7, 1, 3, 2, 2, 9,\n",
            "        7, 1, 2, 2, 6, 0, 7, 5]), tensor([4, 5, 2, 8, 9, 2, 9, 9, 0, 4, 0, 1, 5, 5, 5, 0, 8, 1, 5, 5, 7, 7, 9, 6,\n",
            "        0, 1, 3, 2, 6, 6, 9, 3]), tensor([2, 4, 4, 8, 6, 5, 2, 9, 0, 2, 8, 4, 8, 6, 3, 6, 1, 2, 3, 3, 8, 4, 9, 9,\n",
            "        0, 7, 9, 5, 3, 1, 7, 2]), tensor([8, 4, 9, 2, 1, 6, 0, 7, 8, 1, 9, 3, 6, 8, 1, 8, 4, 2, 5, 6, 9, 6, 1, 2,\n",
            "        0, 7, 9, 0, 1, 3, 7, 5]), tensor([3, 2, 1, 1, 3, 8, 3, 9, 5, 4, 6, 3, 8, 7, 7, 2, 3, 9, 3, 9, 4, 2, 0, 8,\n",
            "        6, 2, 8, 8, 0, 3, 4, 9]), tensor([6, 4, 0, 2, 7, 9, 6, 1, 3, 2, 6, 8, 8, 7, 3, 2, 7, 5, 7, 6, 1, 8, 3, 4,\n",
            "        9, 8, 9, 3, 1, 3, 3, 0]), tensor([3, 0, 6, 4, 1, 9, 7, 1, 2, 2, 5, 3, 4, 1, 7, 6, 7, 6, 2, 8, 8, 1, 4, 9,\n",
            "        7, 6, 6, 4, 9, 3, 9, 8]), tensor([5, 0, 8, 4, 7, 1, 4, 1, 9, 6, 8, 6, 2, 4, 8, 1, 1, 5, 8, 2, 1, 6, 2, 9,\n",
            "        0, 9, 5, 3, 5, 6, 6, 5]), tensor([4, 8, 3, 8, 0, 2, 9, 9, 1, 5, 3, 2, 6, 5, 3, 6, 3, 6, 7, 4, 6, 4, 1, 9,\n",
            "        9, 1, 7, 5, 5, 5, 9, 4]), tensor([8, 2, 6, 6, 4, 6, 2, 1, 1, 4, 2, 8, 4, 9, 0, 5, 8, 1, 3, 2, 3, 2, 3, 8,\n",
            "        6, 6, 9, 3, 6, 9, 7, 2]), tensor([2, 2, 2, 8, 9, 4, 1, 4, 7, 7, 9, 7, 3, 6, 7, 2, 7, 3, 0, 2, 0, 9, 4, 3,\n",
            "        3, 1, 9, 5, 8, 2, 3, 5]), tensor([3, 6, 4, 5, 2, 3, 5, 2, 7, 7, 6, 0, 9, 7, 3, 2, 4, 5, 3, 6, 6, 1, 3, 6,\n",
            "        5, 4, 8, 7, 7, 6, 6, 8]), tensor([3, 5, 2, 2, 9, 8, 9, 9, 8, 1, 7, 5, 6, 1, 5, 3, 3, 3, 3, 2, 4, 3, 6, 7,\n",
            "        8, 0, 9, 6, 3, 0, 4, 2]), tensor([9, 4, 5, 7, 3, 9, 8, 6, 6, 2, 2, 3, 1, 0, 7, 5, 2, 6, 2, 1, 1, 2, 9, 2,\n",
            "        3, 5, 9, 6, 4, 4, 4, 9]), tensor([9, 9, 2, 6, 9, 8, 3, 7, 3, 1, 4, 5, 0, 1, 8, 5, 8, 4, 6, 7, 8, 9, 2, 4,\n",
            "        6, 4, 2, 6, 4, 7, 9, 1]), tensor([9, 7, 4, 5, 6, 1, 2, 4, 5, 6, 1, 5, 8, 6, 4, 2, 9, 4, 7, 8, 3, 0, 2, 7,\n",
            "        7, 5, 9, 5, 7, 3, 8, 7]), tensor([7, 9, 7, 8, 2, 1, 0, 8, 6, 2, 6, 7, 9, 2, 4, 5, 2, 3, 4, 1, 1, 9, 0, 5,\n",
            "        5, 4, 7, 8, 9, 6, 5, 4]), tensor([6, 6, 5, 7, 8, 4, 8, 8, 7, 2, 9, 4, 9, 6, 9, 7, 3, 5, 5, 3, 2, 0, 2, 8,\n",
            "        7, 9, 2, 0, 2, 4, 1, 0]), tensor([3, 8, 4, 8, 4, 4, 4, 3, 5, 7, 7, 8, 5, 6, 3, 2, 1, 8, 3, 8, 5, 4, 2, 3,\n",
            "        0, 8, 1, 3, 4, 9, 6, 9]), tensor([7, 0, 1, 8, 3, 6, 3, 8, 4, 8, 5, 1, 3, 4, 1, 9, 3, 5, 0, 4, 2, 3, 1, 5,\n",
            "        3, 4, 8, 8, 7, 8, 6, 1]), tensor([1, 0, 6, 2, 5, 9, 6, 7, 2, 3, 8, 4, 6, 3, 3, 9, 4, 7, 0, 8, 8, 5, 6, 4,\n",
            "        0, 1, 3, 9, 4, 2, 5, 6]), tensor([8, 3, 2, 5, 6, 0, 6, 0, 6, 9, 1, 3, 3, 3, 5, 8, 6, 6, 1, 4, 9, 7, 2, 4,\n",
            "        7, 5, 7, 1, 4, 8, 7, 9]), tensor([7, 7, 0, 2, 9, 2, 1, 6, 7, 8, 4, 5, 2, 7, 4, 1, 4, 5, 9, 4, 5, 7, 7, 3,\n",
            "        8, 1, 9, 4, 1, 3, 1, 7]), tensor([6, 9, 5, 1, 3, 6, 9, 3, 4, 4, 5, 3, 4, 9, 9, 1, 2, 2, 2, 4, 3, 8, 7, 9,\n",
            "        9, 3, 8, 8, 9, 0, 5, 0]), tensor([4, 0, 8, 8, 4, 2, 0, 1, 4, 0, 2, 1, 5, 4, 6, 6, 0, 0, 4, 5, 6, 0, 7, 6,\n",
            "        0, 3, 1, 8, 4, 8, 9, 9]), tensor([5, 5, 8, 2, 5, 4, 4, 2, 5, 6, 9, 2, 7, 1, 0, 2, 4, 6, 9, 8, 0, 2, 9, 1,\n",
            "        9, 2, 7, 3, 5, 4, 3, 4]), tensor([2, 1, 0, 2, 4, 3, 7, 8, 3, 9, 5, 9, 0, 4, 3, 4, 5, 5, 9, 7, 6, 1, 3, 3,\n",
            "        7, 0, 8, 7, 6, 8, 3, 5]), tensor([5, 8, 1, 9, 4, 3, 4, 2, 1, 6, 3, 3, 6, 5, 3, 8, 1, 1, 7, 8, 2, 5, 9, 0,\n",
            "        8, 3, 6, 4, 2, 7, 0, 7]), tensor([3, 8, 2, 3, 7, 1, 6, 2, 3, 3, 0, 6, 6, 4, 8, 5, 0, 3, 6, 3, 7, 3, 3, 6,\n",
            "        0, 2, 4, 4, 1, 8, 1, 9]), tensor([1, 2, 2, 4, 2, 2, 3, 3, 5, 3, 5, 8, 3, 9, 7, 3, 0, 6, 1, 6, 1, 6, 7, 7,\n",
            "        4, 8, 9, 6, 1, 5, 4, 9]), tensor([4, 7, 9, 9, 9, 6, 1, 0, 9, 9, 5, 1, 7, 2, 9, 3, 5, 6, 8, 1, 5, 4, 3, 8,\n",
            "        2, 7, 8, 8, 9, 6, 8, 4]), tensor([5, 6, 4, 5, 9, 6, 0, 5, 3, 7, 7, 4, 4, 9, 1, 1, 8, 3, 7, 2, 7, 1, 8, 8,\n",
            "        8, 7, 1, 6, 6, 5, 7, 9]), tensor([8, 5, 6, 0, 6, 2, 3, 2, 3, 9, 9, 1, 9, 5, 8, 4, 4, 6, 4, 2, 7, 2, 8, 3,\n",
            "        0, 7, 8, 8, 3, 9, 9, 5]), tensor([9, 2, 6, 9, 7, 0, 7, 4, 7, 9, 2, 3, 9, 5, 3, 5, 3, 1, 2, 9, 1, 2, 8, 5,\n",
            "        1, 7, 9, 0, 3, 3, 0, 9]), tensor([3, 4, 3, 0, 0, 2, 9, 7, 3, 9, 3, 8, 6, 8, 8, 8, 8, 2, 4, 2, 5, 4, 2, 5,\n",
            "        4, 2, 7, 1, 6, 3, 4, 4]), tensor([5, 6, 4, 6, 8, 8, 5, 1, 7, 2, 3, 3, 2, 4, 1, 9, 0, 7, 2, 7, 3, 2, 9, 7,\n",
            "        4, 6, 6, 3, 7, 1, 4, 8]), tensor([6, 1, 7, 3, 0, 3, 8, 6, 8, 0, 4, 1, 7, 9, 6, 2, 9, 2, 6, 7, 1, 7, 5, 2,\n",
            "        9, 8, 4, 4, 0, 8, 3, 2]), tensor([2, 8, 1, 6, 8, 1, 8, 1, 0, 1, 6, 7, 3, 7, 7, 3, 3, 9, 9, 6, 2, 2, 5, 8,\n",
            "        9, 6, 3, 5, 4, 1, 6, 9]), tensor([4, 3, 2, 6, 1, 8, 1, 3, 4, 0, 4, 1, 9, 0, 9, 3, 5, 3, 6, 4, 1, 8, 0, 7,\n",
            "        2, 6, 2, 3, 4, 4, 5, 2]), tensor([9, 6, 8, 0, 4, 6, 6, 1, 7, 8, 2, 3, 3, 2, 0, 3, 8, 2, 6, 2, 5, 1, 4, 2,\n",
            "        2, 1, 7, 3, 4, 6, 9, 8]), tensor([8, 0, 6, 3, 6, 0, 8, 1, 2, 3, 3, 1, 9, 5, 3, 2, 6, 9, 1, 3, 2, 9, 6, 4,\n",
            "        2, 4, 8, 6, 8, 4, 7, 0]), tensor([3, 1, 3, 8, 3, 4, 1, 2, 6, 3, 0, 7, 7, 8, 3, 2, 9, 5, 4, 6, 9, 5, 2, 3,\n",
            "        8, 5, 3, 8, 3, 7, 9, 0]), tensor([2, 5, 1, 0, 5, 6, 3, 5, 7, 9, 6, 6, 7, 1, 2, 0, 8, 6, 2, 2, 7, 8, 3, 4,\n",
            "        4, 6, 9, 7, 3, 4, 5, 4]), tensor([5, 1, 9, 5, 0, 5, 8, 4, 1, 7, 9, 3, 3, 3, 4, 9, 1, 3, 3, 9, 5, 6, 8, 2,\n",
            "        2, 1, 4, 0, 6, 7, 9, 0]), tensor([6, 3, 2, 3, 0, 9, 8, 1, 3, 7, 0, 7, 9, 7, 4, 2, 3, 6, 8, 0, 5, 5, 1, 0,\n",
            "        8, 5, 7, 9, 9, 0, 4, 4]), tensor([2, 8, 9, 4, 8, 7, 5, 4, 7, 6, 1, 4, 6, 2, 0, 9, 6, 0, 5, 1, 1, 7, 8, 3,\n",
            "        2, 6, 2, 0, 6, 4, 6, 5]), tensor([2, 4, 4, 4, 6, 1, 5, 2, 7, 8, 6, 7, 7, 0, 8, 4, 3, 6, 9, 1, 2, 1, 7, 4,\n",
            "        3, 4, 9, 9, 2, 4, 4, 3]), tensor([3, 3, 7, 5, 2, 7, 8, 9, 9, 2, 7, 8, 7, 7, 3, 8, 7, 4, 4, 9, 0, 1, 8, 7,\n",
            "        5, 4, 5, 3, 7, 4, 6, 5]), tensor([5, 6, 7, 9, 0, 9, 5, 9, 4, 4, 1, 9, 8, 3, 5, 1, 0, 6, 5, 0, 2, 3, 7, 1,\n",
            "        1, 1, 8, 7, 7, 4, 3, 4]), tensor([7, 6, 0, 5, 3, 1, 8, 1, 5, 2, 7, 3, 2, 3, 2, 7, 8, 0, 7, 0, 9, 5, 8, 6,\n",
            "        7, 3, 9, 0, 9, 7, 3, 0]), tensor([6, 5, 7, 8, 4, 3, 1, 9, 0, 2, 9, 1, 3, 4, 4, 3, 3, 6, 2, 3, 8, 6, 4, 9,\n",
            "        5, 0, 1, 8, 2, 4, 1, 4]), tensor([2, 9, 4, 3, 7, 9, 6, 3, 7, 4, 7, 9, 8, 8, 3, 0, 1, 2, 2, 4, 1, 9, 6, 4,\n",
            "        6, 5, 5, 4, 3, 2, 0, 1]), tensor([4, 9, 9, 7, 6, 1, 2, 6, 0, 2, 6, 2, 5, 9, 4, 8, 4, 6, 1, 5, 5, 2, 1, 8,\n",
            "        9, 3, 1, 7, 1, 1, 1, 9]), tensor([1, 3, 8, 9, 9, 4, 9, 4, 0, 7, 8, 5, 5, 5, 3, 8, 4, 4, 7, 4, 4, 9, 2, 6,\n",
            "        1, 5, 0, 7, 4, 4, 6, 7]), tensor([1, 1, 8, 2, 8, 7, 2, 0, 7, 2, 6, 6, 5, 1, 6, 8, 2, 3, 7, 2, 3, 9, 7, 6,\n",
            "        1, 3, 7, 2, 4, 0, 3, 7]), tensor([8, 1, 1, 8, 8, 3, 8, 4, 6, 2, 1, 5, 2, 1, 6, 2, 8, 9, 9, 4, 8, 4, 1, 7,\n",
            "        9, 0, 8, 7, 3, 3, 8, 4]), tensor([1, 8, 2, 5, 4, 4, 8, 9, 2, 7, 3, 2, 6, 1, 1, 0, 4, 1, 6, 7, 6, 5, 9, 1,\n",
            "        5, 0, 9, 4, 2, 1, 7, 6]), tensor([9, 8, 8, 9, 8, 5, 3, 8, 2, 0, 3, 4, 1, 1, 9, 6, 9, 7, 5, 3, 2, 9, 5, 5,\n",
            "        4, 2, 9, 9, 3, 0, 6, 4]), tensor([1, 7, 4, 7, 2, 8, 5, 8, 6, 0, 1, 3, 2, 2, 3, 6, 6, 6, 2, 8, 3, 2, 2, 6,\n",
            "        1, 8, 4, 5, 4, 2, 3, 9]), tensor([0, 4, 3, 4, 5, 4, 2, 7, 3, 7, 3, 3, 6, 9, 4, 8, 5, 6, 0, 3, 6, 7, 2, 5,\n",
            "        3, 1, 1, 9, 7, 5, 4, 2]), tensor([1, 6, 4, 8, 7, 2, 5, 8, 3, 3, 0, 9, 6, 3, 8, 3, 8, 4, 9, 4, 8, 6, 8, 2,\n",
            "        8, 4, 1, 3, 7, 2, 8, 2]), tensor([2, 3, 4, 3, 0, 8, 4, 5, 1, 4, 4, 8, 4, 4, 2, 1, 4, 9, 6, 5, 9, 6, 8, 0,\n",
            "        3, 4, 3, 8, 4, 7, 5, 4]), tensor([1, 1, 2, 6, 7, 8, 0, 1, 6, 5, 2, 8, 9, 7, 9, 1, 4, 3, 3, 5, 6, 7, 6, 9,\n",
            "        4, 9, 3, 2, 6, 2, 8, 5]), tensor([2, 5, 9, 8, 3, 8, 1, 0, 3, 4, 5, 2, 5, 6, 4, 9, 2, 7, 1, 2, 8, 3, 7, 7,\n",
            "        6, 7, 9, 2, 7, 7, 0, 1]), tensor([6, 1, 6, 8, 2, 4, 7, 6, 7, 1, 8, 7, 0, 1, 3, 1, 0, 3, 6, 5, 3, 8, 6, 3,\n",
            "        4, 9, 0, 1, 5, 3, 0, 7]), tensor([0, 6, 4, 5, 1, 6, 6, 2, 8, 3, 9, 8, 3, 7, 2, 4, 2, 7, 1, 9, 4, 3, 8, 7,\n",
            "        1, 8, 1, 2, 0, 9, 2, 4]), tensor([3, 4, 6, 1, 3, 5, 2, 9, 7, 5, 3, 9, 5, 5, 6, 4, 8, 0, 7, 6, 8, 4, 2, 1,\n",
            "        9, 7, 7, 3, 8, 0, 3, 6]), tensor([9, 8, 5, 6, 4, 8, 1, 5, 5, 7, 0, 1, 6, 1, 3, 4, 4, 4, 4, 1, 7, 4, 2, 2,\n",
            "        6, 1, 8, 2, 4, 6, 3, 0]), tensor([8, 8, 4, 4, 2, 0, 7, 0, 8, 9, 1, 4, 6, 7, 6, 8, 1, 8, 2, 6, 6, 7, 5, 7,\n",
            "        9, 9, 3, 9, 4, 4, 2, 6]), tensor([1, 4, 8, 4, 2, 5, 6, 2, 2, 9, 1, 8, 0, 6, 2, 6, 6, 3, 6, 6, 1, 6, 6, 3,\n",
            "        4, 1, 7, 8, 1, 0, 5, 6]), tensor([8, 0, 3, 2, 8, 8, 8, 7, 8, 3, 5, 9, 8, 5, 1, 2, 4, 7, 2, 9, 7, 8, 0, 7,\n",
            "        4, 6, 3, 8, 8, 4, 5, 3]), tensor([8, 1, 4, 2, 2, 7, 8, 9, 0, 2, 7, 9, 3, 5, 7, 8, 4, 3, 5, 5, 9, 1, 0, 8,\n",
            "        6, 1, 0, 3, 5, 8, 0, 0]), tensor([4, 8, 2, 9, 0, 0, 7, 6, 6, 8, 7, 4, 8, 8, 2, 6, 3, 6, 7, 1, 4, 7, 4, 4,\n",
            "        7, 1, 6, 5, 4, 3, 7, 9]), tensor([6, 2, 8, 2, 1, 1, 8, 8, 3, 7, 7, 7, 2, 7, 4, 3, 7, 3, 8, 9, 6, 2, 2, 4,\n",
            "        5, 7, 0, 2, 3, 9, 7, 7]), tensor([4, 2, 5, 8, 3, 1, 3, 7, 2, 9, 4, 3, 9, 7, 2, 0, 8, 6, 9, 1, 9, 9, 6, 7,\n",
            "        1, 4, 7, 0, 3, 8, 7, 4]), tensor([4, 8, 9, 3, 2, 0, 6, 9, 6, 5, 6, 1, 3, 8, 9, 1, 8, 8, 4, 0, 8, 7, 2, 9,\n",
            "        2, 1, 2, 7, 5, 8, 6, 8]), tensor([4, 4, 7, 2, 2, 6, 8, 5, 7, 9, 5, 7, 2, 2, 3, 9, 3, 2, 1, 5, 6, 9, 7, 4,\n",
            "        6, 2, 5, 8, 0, 7, 7, 3]), tensor([2, 0, 4, 8, 4, 0, 6, 9, 8, 9, 6, 5, 6, 6, 0, 2, 6, 3, 1, 8, 7, 4, 3, 9,\n",
            "        1, 2, 2, 5, 2, 3, 2, 0]), tensor([2, 6, 0, 7, 2, 1, 8, 2, 8, 7, 9, 2, 1, 3, 5, 7, 7, 3, 2, 5, 9, 0, 4, 7,\n",
            "        0, 2, 0, 9, 6, 7, 3, 9]), tensor([1, 2, 1, 9, 7, 2, 3, 4, 8, 1, 8, 3, 5, 0, 5, 3, 8, 5, 7, 4, 9, 0, 6, 8,\n",
            "        4, 2, 4, 4, 4, 3, 7, 4]), tensor([7, 1, 3, 7, 2, 9, 5, 5, 2, 4, 4, 5, 0, 8, 6, 6, 4, 0, 8, 7, 9, 6, 9, 1,\n",
            "        5, 1, 2, 1, 3, 2, 2, 2]), tensor([4, 5, 7, 3, 9, 2, 0, 5, 7, 0, 5, 6, 7, 3, 3, 2, 3, 7, 1, 3, 2, 9, 8, 1,\n",
            "        7, 3, 2, 4, 3, 7, 3, 8]), tensor([5, 7, 8, 6, 7, 1, 8, 7, 7, 7, 7, 6, 8, 2, 2, 1, 2, 3, 4, 1, 0, 3, 9, 1,\n",
            "        8, 2, 3, 7, 4, 9, 5, 7]), tensor([4, 3, 9, 8, 6, 8, 2, 7, 3, 9, 3, 0, 8, 9, 0, 9, 4, 0, 8, 5, 7, 1, 6, 8,\n",
            "        2, 0, 2, 3, 8, 1, 1, 7]), tensor([6, 2, 2, 5, 9, 8, 9, 9, 3, 4, 7, 9, 2, 0, 1, 1, 1, 4, 8, 6, 2, 0, 5, 5,\n",
            "        6, 7, 6, 8, 2, 3, 4, 2]), tensor([2, 6, 5, 7, 4, 9, 8, 2, 2, 4, 0, 7, 4, 5, 6, 3, 3, 1, 9, 8, 1, 8, 4, 6,\n",
            "        3, 9, 1, 9, 7, 2, 9, 3]), tensor([9, 3, 0, 4, 8, 3, 4, 6, 6, 9, 2, 1, 1, 0, 5, 6, 7, 0, 4, 1, 1, 7, 0, 0,\n",
            "        1, 9, 2, 7, 3, 5, 2, 3]), tensor([2, 0, 2, 6, 3, 6, 2, 3, 8, 9, 5, 8, 9, 3, 1, 7, 8, 9, 4, 1, 1, 7, 6, 7,\n",
            "        6, 0, 9, 6, 0, 2, 9, 2]), tensor([8, 5, 5, 9, 3, 3, 5, 7, 1, 2, 3, 3, 8, 6, 6, 4, 1, 1, 9, 1, 4, 6, 6, 2,\n",
            "        2, 6, 6, 0, 6, 5, 0, 3]), tensor([0, 5, 1, 1, 8, 4, 5, 3, 5, 1, 6, 6, 3, 1, 6, 7, 9, 6, 3, 8, 7, 4, 4, 9,\n",
            "        1, 9, 7, 7, 4, 2, 2, 7]), tensor([5, 6, 1, 5, 7, 7, 8, 4, 8, 3, 7, 6, 6, 8, 9, 9, 0, 2, 7, 3, 1, 0, 8, 2,\n",
            "        4, 4, 4, 7, 1, 8, 4, 0]), tensor([3, 4, 6, 3, 9, 8, 0, 3, 8, 3, 9, 6, 1, 5, 4, 9, 6, 8, 4, 2, 5, 9, 3, 6,\n",
            "        4, 7, 8, 5, 9, 5, 0, 0]), tensor([6, 9, 8, 2, 9, 2, 2, 2, 4, 6, 1, 6, 3, 9, 4, 0, 8, 8, 2, 6, 8, 4, 7, 6,\n",
            "        5, 4, 3, 6, 8, 8, 6, 2]), tensor([1, 1, 8, 7, 3, 2, 6, 5, 4, 3, 8, 8, 6, 9, 3, 6, 9, 2, 6, 3, 6, 2, 2, 8,\n",
            "        6, 5, 9, 2, 7, 1, 9, 0]), tensor([3, 0, 3, 6, 3, 9, 9, 7, 3, 0, 4, 2, 4, 6, 6, 5, 4, 4, 9, 8, 7, 8, 0, 4,\n",
            "        1, 4, 8, 7, 2, 6, 2, 3]), tensor([7, 6, 3, 5, 2, 7, 6, 7, 1, 2, 9, 8, 7, 2, 8, 7, 7, 5, 8, 4, 4, 6, 8, 3,\n",
            "        6, 4, 9, 6, 1, 0, 5, 1]), tensor([2, 0, 9, 2, 6, 3, 6, 7, 4, 4, 4, 3, 8, 5, 1, 8, 3, 4, 4, 5, 0, 0, 9, 8,\n",
            "        7, 4, 4, 2, 2, 9, 3, 5]), tensor([6, 9, 9, 0, 1, 3, 7, 1, 9, 4, 5, 2, 6, 9, 5, 7, 9, 4, 2, 8, 3, 1, 7, 8,\n",
            "        4, 6, 8, 0, 5, 5, 7, 1]), tensor([7, 6, 2, 1, 7, 1, 9, 0, 1, 0, 3, 2, 7, 3, 9, 3, 5, 4, 0, 6, 9, 7, 2, 2,\n",
            "        3, 8, 5, 8, 3, 0, 4, 1]), tensor([4, 9, 5, 8, 9, 0, 3, 4, 9, 5, 9, 1, 1, 0, 8, 4, 3, 4, 6, 9, 9, 8, 0, 7,\n",
            "        2, 4, 3, 9, 0, 1, 9, 0]), tensor([2, 3, 7, 4, 1, 4, 6, 8, 3, 4, 3, 3, 8, 3, 7, 1, 6, 6, 8, 4, 7, 9, 8, 6,\n",
            "        3, 0, 4, 5, 7, 6, 7, 0]), tensor([5, 0, 2, 3, 3, 3, 0, 3, 4, 4, 4, 4, 6, 7, 7, 6, 7, 4, 0, 2, 2, 1, 9, 5,\n",
            "        9, 9, 0, 5, 8, 2, 7, 3]), tensor([9, 5, 2, 8, 9, 3, 8, 6, 0, 3, 0, 6, 3, 7, 8, 0, 1, 2, 2, 6, 1, 1, 3, 2,\n",
            "        2, 5, 4, 3, 9, 3, 3, 2]), tensor([3, 7, 2, 9, 2, 1, 4, 7, 5, 5, 7, 2, 6, 9, 7, 9, 7, 4, 1, 8, 3, 3, 8, 0,\n",
            "        8, 7, 6, 7, 7, 9, 4, 4]), tensor([6, 3, 8, 2, 1, 5, 2, 0, 5, 8, 6, 7, 6, 1, 0, 5, 6, 2, 1, 4, 1, 8, 7, 9,\n",
            "        9, 7, 3, 2, 2, 4, 7, 4]), tensor([3, 9, 6, 3, 9, 5, 1, 0, 9, 0, 7, 4, 3, 5, 7, 2, 7, 2, 8, 7, 5, 4, 6, 9,\n",
            "        4, 3, 6, 0, 2, 8, 5, 6]), tensor([1, 9, 3, 7, 1, 0, 3, 4, 4, 2, 5, 9, 2, 1, 1, 9, 7, 9, 0, 4, 6, 8, 9, 2,\n",
            "        8, 3, 7, 8, 7, 7, 6, 8]), tensor([5, 3, 0, 9, 5, 2, 7, 7, 9, 7, 1, 0, 0, 8, 6, 2, 0, 2, 4, 5, 5, 0, 8, 3,\n",
            "        3, 4, 5, 6, 7, 1, 8, 7]), tensor([1, 2, 2, 6, 6, 8, 3, 8, 4, 8, 2, 3, 8, 4, 6, 6, 6, 8, 7, 3, 3, 6, 5, 6,\n",
            "        1, 5, 0, 9, 9, 1, 3, 0]), tensor([6, 1, 6, 6, 5, 7, 2, 4, 0, 9, 2, 3, 8, 2, 8, 3, 7, 7, 3, 3, 9, 5, 7, 3,\n",
            "        0, 9, 4, 5, 0, 7, 2, 9]), tensor([5, 5, 8, 8, 4, 9, 9, 6, 3, 6, 3, 0, 2, 7, 6, 4, 2, 8, 4, 1, 5, 7, 9, 7,\n",
            "        3, 9, 8, 8, 5, 1, 9, 0]), tensor([4, 6, 4, 8, 0, 5, 6, 9, 8, 8, 4, 4, 4, 1, 7, 5, 1, 2, 6, 7, 0, 3, 2, 8,\n",
            "        7, 8, 5, 5, 1, 1, 3, 8]), tensor([9, 9, 9, 1, 0, 6, 3, 4, 3, 6, 7, 1, 3, 0, 1, 5, 3, 4, 9, 2, 4, 2, 4, 6,\n",
            "        7, 9, 6, 7, 1, 4, 0, 8]), tensor([3, 3, 5, 8, 0, 8, 3, 3, 4, 0, 1, 8, 4, 3, 2, 9, 9, 4, 4, 5, 2, 1, 6, 4,\n",
            "        4, 8, 8, 6, 7, 3, 0, 6]), tensor([7, 6, 2, 3, 4, 4, 2, 6, 3, 4, 8, 1, 7, 8, 4, 8, 7, 8, 9, 9, 9, 2, 6, 9,\n",
            "        4, 0, 8, 8, 8, 0, 5, 6]), tensor([6, 6, 6, 6, 9, 9, 2, 3, 5, 4, 6, 1, 0, 8, 9, 5, 7, 3, 3, 2, 4, 1, 2, 8,\n",
            "        1, 8, 2, 6, 6, 9, 8, 5]), tensor([1, 2, 4, 0, 9, 8, 5, 8, 0, 7, 1, 6, 5, 8, 5, 7, 4, 9, 4, 3, 8, 2, 5, 0,\n",
            "        8, 0, 4, 2, 3, 6, 0, 0]), tensor([3, 0, 5, 9, 4, 7, 1, 5, 4, 1, 6, 1, 7, 9, 4, 0, 4, 5, 2, 9, 4, 9, 8, 8,\n",
            "        7, 6, 2, 0, 9, 3, 6, 7]), tensor([6, 2, 7, 6, 2, 1, 0, 5, 7, 3, 5, 9, 2, 3, 4, 8, 5, 8, 1, 9, 2, 7, 6, 7,\n",
            "        3, 6, 2, 5, 6, 8, 8, 8]), tensor([7, 4, 0, 5, 1, 5, 9, 6, 0, 9, 5, 8, 6, 7, 3, 6, 8, 3, 2, 6, 5, 7, 5, 1,\n",
            "        1, 7, 4, 1, 4, 5, 8, 2]), tensor([9, 6, 3, 3, 4, 6, 2, 4, 1, 1, 4, 7, 2, 5, 0, 4, 6, 8, 8, 4, 7, 7, 1, 2,\n",
            "        6, 4, 1, 4, 0, 2, 5, 8]), tensor([2, 4, 8, 3, 1, 8, 8, 4, 4, 0, 8, 2, 8, 6, 3, 2, 8, 8, 7, 5, 7, 6, 1, 1,\n",
            "        9, 7, 8, 6, 1, 9, 6, 3]), tensor([6, 9, 4, 0, 6, 5, 9, 2, 2, 2, 0, 5, 6, 6, 3, 7, 8, 6, 2, 6, 1, 1, 9, 9,\n",
            "        4, 9, 3, 4, 8, 9, 8, 8]), tensor([6, 1, 2, 3, 7, 6, 9, 0, 4, 8, 2, 3, 6, 9, 5, 5, 9, 8, 6, 4, 1, 1, 8, 9,\n",
            "        6, 6, 2, 3, 8, 0, 7, 1]), tensor([8, 8, 5, 3, 3, 7, 7, 1, 0, 1, 4, 1, 9, 0, 2, 3, 1, 0, 7, 3, 7, 3, 2, 0,\n",
            "        3, 8, 9, 2, 6, 6, 0, 9]), tensor([1, 6, 1, 2, 7, 8, 0, 5, 6, 8, 2, 4, 9, 1, 5, 9, 1, 8, 5, 3, 1, 2, 4, 3,\n",
            "        7, 3, 7, 4, 8, 6, 7, 4]), tensor([2, 3, 9, 8, 3, 8, 7, 7, 9, 7, 0, 9, 4, 6, 9, 6, 1, 9, 8, 6, 3, 7, 6, 9,\n",
            "        5, 4, 7, 1, 2, 1, 2, 6]), tensor([9, 6, 0, 7, 6, 0, 5, 9, 4, 6, 9, 9, 1, 2, 7, 7, 7, 2, 5, 1, 4, 0, 6, 3,\n",
            "        8, 9, 8, 4, 1, 0, 8, 3]), tensor([9, 8, 8, 7, 8, 3, 2, 0, 7, 4, 8, 6, 9, 9, 4, 7, 7, 2, 2, 1, 5, 4, 4, 3,\n",
            "        5, 5, 0, 8, 4, 7, 8, 9]), tensor([4, 2, 1, 7, 4, 4, 4, 7, 4, 3, 6, 0, 7, 7, 8, 0, 9, 4, 2, 6, 2, 9, 7, 1,\n",
            "        9, 7, 3, 3, 1, 4, 3, 5]), tensor([3, 3, 9, 4, 1, 4, 4, 6, 7, 5, 4, 6, 9, 9, 8, 1, 8, 1, 2, 2, 7, 5, 6, 1,\n",
            "        4, 6, 0, 1, 2, 0, 7, 6]), tensor([8, 8, 2, 8, 4, 5, 0, 0, 1, 7, 9, 7, 3, 9, 4, 6, 2, 8, 7, 1, 6, 8, 7, 6,\n",
            "        8, 4, 8, 2, 8, 0, 1, 9]), tensor([3, 8, 1, 7, 4, 9, 3, 7, 9, 3, 1, 8, 3, 0, 9, 3, 6, 2, 4, 2, 7, 6, 0, 9,\n",
            "        8, 8, 1, 5, 7, 7, 3, 7]), tensor([9, 4, 2, 0, 9, 8, 7, 3, 7, 0, 2, 9, 5, 2, 2, 9, 4, 6, 3, 2, 0, 4, 7, 8,\n",
            "        2, 4, 3, 1, 9, 3, 8, 3]), tensor([9, 7, 1, 7, 1, 6, 3, 8, 7, 6, 0, 6, 4, 1, 1, 2, 9, 0, 3, 2, 1, 3, 2, 7,\n",
            "        6, 1, 8, 7, 7, 0, 6, 5]), tensor([0, 4, 6, 2, 2, 5, 6, 1, 8, 2, 1, 7, 3, 8, 8, 9, 9, 0, 1, 8, 1, 2, 9, 6,\n",
            "        3, 1, 1, 4, 7, 8, 3, 6]), tensor([9, 3, 2, 8, 3, 8, 4, 9, 4, 7, 7, 3, 3, 6, 4, 5, 7, 3, 7, 6, 6, 6, 9, 3,\n",
            "        0, 3, 4, 1, 2, 1, 8, 1]), tensor([9, 4, 8, 9, 9, 8, 3, 7, 0, 0, 6, 1, 6, 4, 4, 4, 4, 2, 7, 6, 6, 3, 4, 0,\n",
            "        0, 1, 3, 8, 3, 5, 7, 9]), tensor([6, 4, 3, 7, 5, 1, 2, 7, 7, 5, 8, 0, 9, 1, 6, 1, 4, 9, 1, 2, 5, 2, 3, 0,\n",
            "        7, 1, 2, 7, 9, 3, 7, 2]), tensor([4, 6, 6, 7, 2, 7, 3, 3, 7, 8, 8, 7, 6, 1, 2, 0, 9, 7, 9, 9, 1, 2, 3, 4,\n",
            "        7, 4, 3, 3, 1, 7, 5, 7]), tensor([2, 5, 2, 0, 3, 1, 4, 7, 5, 3, 6, 7, 8, 4, 7, 4, 0, 8, 3, 0, 1, 7, 5, 2,\n",
            "        9, 1, 2, 6, 5, 1, 0, 2]), tensor([3, 9, 3, 1, 8, 2, 5, 9, 5, 8, 1, 0, 9, 6, 6, 6, 1, 1, 4, 7, 3, 0, 7, 5,\n",
            "        2, 9, 5, 4, 6, 4, 7, 2]), tensor([0, 8, 3, 8, 1, 1, 2, 4, 8, 4, 0, 8, 4, 8, 5, 3, 2, 7, 0, 2, 4, 5, 4, 4,\n",
            "        4, 5, 9, 6, 9, 5, 6, 7]), tensor([3, 2, 3, 3, 9, 6, 7, 7, 8, 1, 1, 6, 6, 5, 7, 6, 4, 7, 6, 7, 0, 6, 2, 9,\n",
            "        9, 7, 7, 5, 6, 1, 2, 3]), tensor([4, 6, 4, 0, 9, 8, 7, 2, 4, 2, 8, 9, 7, 1, 6, 7, 9, 9, 0, 1, 5, 1, 1, 3,\n",
            "        6, 7, 9, 8, 3, 6, 8, 5]), tensor([2, 4, 3, 6, 8, 0, 5, 6, 6, 9, 0, 1, 2, 5, 3, 5, 2, 1, 8, 1, 7, 3, 9, 3,\n",
            "        8, 3, 5, 4, 1, 0, 2, 4]), tensor([6, 4, 8, 2, 2, 8, 7, 0, 2, 4, 9, 8, 6, 1, 0, 3, 4, 8, 3, 4, 7, 7, 3, 9,\n",
            "        2, 5, 3, 4, 9, 9, 4, 8]), tensor([7, 6, 9, 3, 4, 0, 2, 8, 3, 1, 9, 2, 1, 6, 7, 3, 8, 5, 0, 4, 6, 4, 1, 1,\n",
            "        9, 8, 8, 9, 3, 2, 6, 0]), tensor([7, 2, 7, 6, 8, 3, 2, 4, 8, 4, 1, 5, 0, 3, 3, 1, 9, 2, 8, 7, 8, 2, 3, 6,\n",
            "        2, 5, 4, 9, 0, 7, 1, 1]), tensor([7, 9, 6, 1, 4, 7, 5, 4, 6, 3, 3, 2, 1, 0, 3, 9, 9, 8, 2, 9, 6, 4, 5, 4,\n",
            "        7, 2, 6, 5, 2, 6, 9, 3]), tensor([7, 0, 4, 3, 5, 3, 4, 3, 4, 6, 9, 8, 8, 6, 4, 0, 6, 3, 7, 4, 2, 8, 1, 7,\n",
            "        4, 4, 9, 3, 6, 2, 0, 8]), tensor([7, 0, 5, 0, 6, 3, 1, 3, 0, 9, 5, 4, 3, 7, 6, 6, 2, 9, 6, 7, 6, 5, 4, 8,\n",
            "        2, 1, 3, 6, 6, 5, 9, 3]), tensor([5, 6, 2, 0, 7, 4, 6, 8, 3, 3, 8, 6, 3, 8, 9, 4, 0, 2, 8, 3, 8, 2, 7, 7,\n",
            "        0, 3, 6, 8, 1, 5, 9, 2]), tensor([2, 8, 9, 2, 1, 0, 5, 8, 2, 2, 8, 2, 6, 6, 7, 6, 7, 3, 7, 4, 8, 8, 8, 3,\n",
            "        9, 9, 0, 6, 8, 0, 3, 6]), tensor([6, 9, 2, 7, 6, 7, 6, 3, 1, 7, 8, 6, 2, 7, 3, 3, 8, 3, 6, 9, 2, 8, 5, 4,\n",
            "        9, 6, 3, 4, 2, 0, 1, 1]), tensor([7, 3, 8, 2, 1, 9, 7, 8, 4, 8, 2, 3, 7, 6, 6, 4, 9, 6, 6, 2, 9, 8, 0, 5,\n",
            "        7, 4, 4, 7, 4, 1, 0, 7]), tensor([2, 4, 2, 7, 2, 2, 3, 3, 1, 5, 4, 0, 1, 9, 7, 5, 6, 7, 2, 7, 2, 6, 3, 5,\n",
            "        4, 8, 9, 0, 9, 7, 5, 7]), tensor([7, 9, 3, 6, 8, 4, 3, 9, 3, 1, 0, 2, 5, 6, 8, 7, 9, 7, 7, 7, 9, 2, 6, 0,\n",
            "        6, 7, 2, 1, 8, 0, 3, 8]), tensor([5, 0, 7, 6, 9, 1, 1, 2, 6, 8, 9, 7, 7, 7, 8, 6, 1, 4, 0, 1, 8, 4, 3, 4,\n",
            "        7, 9, 3, 7, 7, 7, 6, 9]), tensor([1, 4, 1, 2, 7, 4, 6, 9, 3, 4, 6, 1, 7, 8, 1, 6, 5, 9, 0, 0, 9, 5, 3, 8,\n",
            "        8, 2, 6, 5, 7, 0, 7, 0]), tensor([9, 6, 5, 2, 9, 4, 8, 5, 4, 0, 1, 2, 6, 8, 7, 4, 1, 7, 7, 8, 5, 7, 0, 6,\n",
            "        4, 2, 1, 3, 8, 0, 3, 2]), tensor([7, 5, 9, 1, 0, 4, 3, 7, 6, 6, 3, 1, 8, 4, 7, 2, 5, 9, 3, 1, 8, 1, 9, 2,\n",
            "        9, 6, 2, 6, 1, 8, 3, 9]), tensor([8, 4, 0, 4, 8, 4, 3, 1, 2, 4, 6, 4, 2, 8, 5, 7, 8, 7, 3, 5, 5, 7, 9, 9,\n",
            "        8, 2, 8, 2, 1, 3, 3, 4]), tensor([8, 9, 4, 0, 7, 3, 6, 8, 1, 2, 4, 1, 6, 5, 4, 9, 7, 2, 8, 7, 3, 7, 2, 1,\n",
            "        2, 1, 7, 4, 8, 5, 5, 0]), tensor([2, 3, 6, 1, 6, 6, 5, 0, 1, 5, 8, 2, 5, 1, 9, 8, 7, 1, 2, 7, 0, 9, 3, 4,\n",
            "        9, 0, 4, 6, 6, 5, 9, 9]), tensor([2, 2, 7, 1, 8, 1, 4, 2, 3, 7, 8, 4, 6, 4, 5, 4, 2, 9, 3, 5, 8, 0, 1, 9,\n",
            "        6, 7, 3, 7, 4, 4, 6, 0]), tensor([2, 1, 3, 3, 6, 7, 0, 5, 9, 2, 9, 3, 7, 9, 9, 4, 8, 8, 3, 1, 4, 4, 0, 2,\n",
            "        8, 1, 2, 1, 3, 3, 2, 7]), tensor([8, 7, 0, 4, 3, 4, 4, 5, 7, 9, 4, 8, 2, 4, 5, 0, 1, 7, 6, 7, 6, 0, 0, 3,\n",
            "        5, 1, 1, 2, 3, 6, 9, 8]), tensor([1, 6, 1, 6, 8, 5, 4, 0, 4, 0, 4, 9, 3, 7, 5, 2, 8, 6, 2, 8, 6, 4, 4, 6,\n",
            "        8, 7, 5, 2, 8, 7, 2, 9]), tensor([5, 9, 2, 4, 6, 2, 1, 9, 7, 1, 7, 3, 5, 8, 7, 2, 9, 1, 5, 2, 0, 6, 0, 1,\n",
            "        2, 4, 4, 8, 0, 3, 2, 2]), tensor([3, 5, 4, 6, 3, 6, 5, 1, 8, 3, 1, 8, 7, 8, 4, 2, 0, 6, 7, 8, 1, 3, 9, 0,\n",
            "        2, 8, 1, 4, 8, 8, 3, 0]), tensor([8, 5, 7, 8, 4, 7, 7, 6, 1, 8, 1, 7, 7, 0, 3, 1, 6, 9, 5, 3, 8, 9, 4, 0,\n",
            "        9, 5, 1, 7, 6, 1, 8, 2]), tensor([0, 3, 3, 0, 7, 1, 3, 4, 4, 5, 7, 0, 4, 7, 3, 3, 7, 8, 8, 2, 5, 6, 9, 7,\n",
            "        1, 2, 9, 3, 0, 5, 5, 0]), tensor([9, 1, 4, 6, 5, 6, 4, 1, 4, 0, 3, 3, 6, 3, 0, 8, 4, 7, 8, 5, 7, 0, 7, 9,\n",
            "        4, 3, 2, 9, 2, 7, 4, 8]), tensor([8, 8, 9, 8, 3, 8, 9, 3, 6, 0, 2, 1, 8, 4, 4, 2, 0, 9, 7, 3, 1, 9, 1, 3,\n",
            "        5, 6, 2, 2, 1, 7, 3, 6]), tensor([8, 2, 9, 3, 9, 6, 0, 4, 1, 2, 6, 2, 9, 1, 3, 9, 7, 2, 2, 6, 2, 9, 7, 8,\n",
            "        5, 6, 9, 6, 0, 3, 8, 1]), tensor([3, 2, 7, 5, 8, 4, 5, 6, 8, 9, 1, 9, 3, 0, 1, 2])]\n"
          ]
        }
      ]
    },
    {
      "cell_type": "code",
      "source": [
        "y_pred_tensor  = torch.cat(y_preds)\n",
        "y_pred_tensor"
      ],
      "metadata": {
        "colab": {
          "base_uri": "https://localhost:8080/"
        },
        "id": "CcOYEM7C2MIT",
        "outputId": "789d41b0-99a9-48df-c53d-8d1213467d57"
      },
      "execution_count": 74,
      "outputs": [
        {
          "output_type": "execute_result",
          "data": {
            "text/plain": [
              "tensor([9, 2, 1,  ..., 0, 1, 2])"
            ]
          },
          "metadata": {},
          "execution_count": 74
        }
      ]
    },
    {
      "cell_type": "code",
      "source": [
        "len(y_pred_tensor)"
      ],
      "metadata": {
        "colab": {
          "base_uri": "https://localhost:8080/"
        },
        "id": "77qsBPJb2nAi",
        "outputId": "aaf0e4bc-5169-468a-b046-465002694906"
      },
      "execution_count": 75,
      "outputs": [
        {
          "output_type": "execute_result",
          "data": {
            "text/plain": [
              "10000"
            ]
          },
          "metadata": {},
          "execution_count": 75
        }
      ]
    },
    {
      "cell_type": "code",
      "source": [
        "try:\n",
        "  import torchmetrics, mlxtend\n",
        "  print(f\"mlxtend version: {mlxtend.__version__}\")\n",
        "  assert int(mlxtend.__version__.split(\".\")[1] >= 19, \"mlxtend version should be 0.19.0 or higher\")\n",
        "except:\n",
        "  !pip install torchmetrics -U mlxtend\n",
        "  import torchmetrics, mlxtend\n",
        "  print(f\"mlxtend version: {mlxtend.__version__}\")"
      ],
      "metadata": {
        "colab": {
          "base_uri": "https://localhost:8080/"
        },
        "id": "x7YlQt552xbA",
        "outputId": "feb39bde-1dc8-4c46-d358-e3d99a7dcba7"
      },
      "execution_count": 76,
      "outputs": [
        {
          "output_type": "stream",
          "name": "stdout",
          "text": [
            "Collecting torchmetrics\n",
            "  Downloading torchmetrics-1.4.1-py3-none-any.whl.metadata (20 kB)\n",
            "Requirement already satisfied: mlxtend in /usr/local/lib/python3.10/dist-packages (0.23.1)\n",
            "Requirement already satisfied: numpy>1.20.0 in /usr/local/lib/python3.10/dist-packages (from torchmetrics) (1.26.4)\n",
            "Requirement already satisfied: packaging>17.1 in /usr/local/lib/python3.10/dist-packages (from torchmetrics) (24.1)\n",
            "Requirement already satisfied: torch>=1.10.0 in /usr/local/lib/python3.10/dist-packages (from torchmetrics) (2.4.0+cu121)\n",
            "Collecting lightning-utilities>=0.8.0 (from torchmetrics)\n",
            "  Downloading lightning_utilities-0.11.7-py3-none-any.whl.metadata (5.2 kB)\n",
            "Requirement already satisfied: scipy>=1.2.1 in /usr/local/lib/python3.10/dist-packages (from mlxtend) (1.13.1)\n",
            "Requirement already satisfied: pandas>=0.24.2 in /usr/local/lib/python3.10/dist-packages (from mlxtend) (2.1.4)\n",
            "Requirement already satisfied: scikit-learn>=1.0.2 in /usr/local/lib/python3.10/dist-packages (from mlxtend) (1.3.2)\n",
            "Requirement already satisfied: matplotlib>=3.0.0 in /usr/local/lib/python3.10/dist-packages (from mlxtend) (3.7.1)\n",
            "Requirement already satisfied: joblib>=0.13.2 in /usr/local/lib/python3.10/dist-packages (from mlxtend) (1.4.2)\n",
            "Requirement already satisfied: setuptools in /usr/local/lib/python3.10/dist-packages (from lightning-utilities>=0.8.0->torchmetrics) (71.0.4)\n",
            "Requirement already satisfied: typing-extensions in /usr/local/lib/python3.10/dist-packages (from lightning-utilities>=0.8.0->torchmetrics) (4.12.2)\n",
            "Requirement already satisfied: contourpy>=1.0.1 in /usr/local/lib/python3.10/dist-packages (from matplotlib>=3.0.0->mlxtend) (1.3.0)\n",
            "Requirement already satisfied: cycler>=0.10 in /usr/local/lib/python3.10/dist-packages (from matplotlib>=3.0.0->mlxtend) (0.12.1)\n",
            "Requirement already satisfied: fonttools>=4.22.0 in /usr/local/lib/python3.10/dist-packages (from matplotlib>=3.0.0->mlxtend) (4.53.1)\n",
            "Requirement already satisfied: kiwisolver>=1.0.1 in /usr/local/lib/python3.10/dist-packages (from matplotlib>=3.0.0->mlxtend) (1.4.5)\n",
            "Requirement already satisfied: pillow>=6.2.0 in /usr/local/lib/python3.10/dist-packages (from matplotlib>=3.0.0->mlxtend) (9.4.0)\n",
            "Requirement already satisfied: pyparsing>=2.3.1 in /usr/local/lib/python3.10/dist-packages (from matplotlib>=3.0.0->mlxtend) (3.1.4)\n",
            "Requirement already satisfied: python-dateutil>=2.7 in /usr/local/lib/python3.10/dist-packages (from matplotlib>=3.0.0->mlxtend) (2.8.2)\n",
            "Requirement already satisfied: pytz>=2020.1 in /usr/local/lib/python3.10/dist-packages (from pandas>=0.24.2->mlxtend) (2024.1)\n",
            "Requirement already satisfied: tzdata>=2022.1 in /usr/local/lib/python3.10/dist-packages (from pandas>=0.24.2->mlxtend) (2024.1)\n",
            "Requirement already satisfied: threadpoolctl>=2.0.0 in /usr/local/lib/python3.10/dist-packages (from scikit-learn>=1.0.2->mlxtend) (3.5.0)\n",
            "Requirement already satisfied: filelock in /usr/local/lib/python3.10/dist-packages (from torch>=1.10.0->torchmetrics) (3.15.4)\n",
            "Requirement already satisfied: sympy in /usr/local/lib/python3.10/dist-packages (from torch>=1.10.0->torchmetrics) (1.13.2)\n",
            "Requirement already satisfied: networkx in /usr/local/lib/python3.10/dist-packages (from torch>=1.10.0->torchmetrics) (3.3)\n",
            "Requirement already satisfied: jinja2 in /usr/local/lib/python3.10/dist-packages (from torch>=1.10.0->torchmetrics) (3.1.4)\n",
            "Requirement already satisfied: fsspec in /usr/local/lib/python3.10/dist-packages (from torch>=1.10.0->torchmetrics) (2024.6.1)\n",
            "Requirement already satisfied: six>=1.5 in /usr/local/lib/python3.10/dist-packages (from python-dateutil>=2.7->matplotlib>=3.0.0->mlxtend) (1.16.0)\n",
            "Requirement already satisfied: MarkupSafe>=2.0 in /usr/local/lib/python3.10/dist-packages (from jinja2->torch>=1.10.0->torchmetrics) (2.1.5)\n",
            "Requirement already satisfied: mpmath<1.4,>=1.1.0 in /usr/local/lib/python3.10/dist-packages (from sympy->torch>=1.10.0->torchmetrics) (1.3.0)\n",
            "Downloading torchmetrics-1.4.1-py3-none-any.whl (866 kB)\n",
            "\u001b[2K   \u001b[90m━━━━━━━━━━━━━━━━━━━━━━━━━━━━━━━━━━━━━━━━\u001b[0m \u001b[32m866.2/866.2 kB\u001b[0m \u001b[31m10.2 MB/s\u001b[0m eta \u001b[36m0:00:00\u001b[0m\n",
            "\u001b[?25hDownloading lightning_utilities-0.11.7-py3-none-any.whl (26 kB)\n",
            "Installing collected packages: lightning-utilities, torchmetrics\n",
            "Successfully installed lightning-utilities-0.11.7 torchmetrics-1.4.1\n",
            "mlxtend version: 0.23.1\n"
          ]
        }
      ]
    },
    {
      "cell_type": "code",
      "source": [
        "import mlxtend\n",
        "print(mlxtend.__version__)"
      ],
      "metadata": {
        "colab": {
          "base_uri": "https://localhost:8080/"
        },
        "id": "1wG5_dag2zlb",
        "outputId": "0a65cae1-b952-4ce0-ce1b-9bb1cc2a7faa"
      },
      "execution_count": 77,
      "outputs": [
        {
          "output_type": "stream",
          "name": "stdout",
          "text": [
            "0.23.1\n"
          ]
        }
      ]
    },
    {
      "cell_type": "code",
      "source": [
        "class_names"
      ],
      "metadata": {
        "colab": {
          "base_uri": "https://localhost:8080/"
        },
        "id": "8-fkb-_O24Wm",
        "outputId": "1258674d-25ab-4fbf-bf34-3f0f91ceeb70"
      },
      "execution_count": 78,
      "outputs": [
        {
          "output_type": "execute_result",
          "data": {
            "text/plain": [
              "['T-shirt/top',\n",
              " 'Trouser',\n",
              " 'Pullover',\n",
              " 'Dress',\n",
              " 'Coat',\n",
              " 'Sandal',\n",
              " 'Shirt',\n",
              " 'Sneaker',\n",
              " 'Bag',\n",
              " 'Ankle boot']"
            ]
          },
          "metadata": {},
          "execution_count": 78
        }
      ]
    },
    {
      "cell_type": "code",
      "source": [
        "y_pred_tensor[:10]"
      ],
      "metadata": {
        "colab": {
          "base_uri": "https://localhost:8080/"
        },
        "id": "Mff0XYR126fg",
        "outputId": "3a9bffff-0ad7-4137-af2d-ce0984dc31fe"
      },
      "execution_count": 79,
      "outputs": [
        {
          "output_type": "execute_result",
          "data": {
            "text/plain": [
              "tensor([9, 2, 1, 1, 6, 1, 4, 6, 5, 7])"
            ]
          },
          "metadata": {},
          "execution_count": 79
        }
      ]
    },
    {
      "cell_type": "code",
      "source": [
        "test_data.targets"
      ],
      "metadata": {
        "colab": {
          "base_uri": "https://localhost:8080/"
        },
        "id": "1sijT8SY29BO",
        "outputId": "8e56c1c6-10b4-4de9-eb9a-1141f548ac63"
      },
      "execution_count": 80,
      "outputs": [
        {
          "output_type": "execute_result",
          "data": {
            "text/plain": [
              "tensor([9, 2, 1,  ..., 8, 1, 5])"
            ]
          },
          "metadata": {},
          "execution_count": 80
        }
      ]
    },
    {
      "cell_type": "code",
      "source": [
        "from torchmetrics import ConfusionMatrix\n",
        "from mlxtend.plotting import plot_confusion_matrix\n",
        "\n",
        "# 2. Setup confusion instance and compare predictions to targets\n",
        "confmat = ConfusionMatrix(task=\"multiclass\",num_classes=len(class_names))\n",
        "confmat_tensor = confmat(preds=y_pred_tensor,\n",
        "                         target=test_data.targets)\n",
        "\n",
        "# 3. Plot the confusion matrix\n",
        "fig, ax = plot_confusion_matrix(\n",
        "    conf_mat=confmat_tensor.numpy(), # matplotlib likes working with numpy\n",
        "    class_names=class_names,\n",
        "    figsize=(10, 7)\n",
        ")"
      ],
      "metadata": {
        "colab": {
          "base_uri": "https://localhost:8080/",
          "height": 647
        },
        "id": "aTH7wf082_O3",
        "outputId": "9ce5267c-6a07-47a8-8472-aec38535a0d1"
      },
      "execution_count": 82,
      "outputs": [
        {
          "output_type": "display_data",
          "data": {
            "text/plain": [
              "<Figure size 1000x700 with 1 Axes>"
            ],
            "image/png": "[encoded data removed]"
          },
          "metadata": {}
        }
      ]
    },
    {
      "cell_type": "markdown",
      "source": [
        "Save and load best performing model"
      ],
      "metadata": {
        "id": "gjbwVh6j3gwD"
      }
    },
    {
      "cell_type": "code",
      "source": [
        "from pathlib import Path\n",
        "\n",
        "# Create model dictory path\n",
        "MODEL_PATH = Path(\"models\")\n",
        "MODEL_PATH.mkdir(parents=True,\n",
        "                 exist_ok=True)\n",
        "\n",
        "# Create model save\n",
        "MODEL_NAME = \"03_pytorch_computer_vision_model_2.pth\"\n",
        "MODEL_SAVE_PATH = MODEL_PATH / MODEL_NAME\n",
        "\n",
        "# Save the model state dict\n",
        "print(f\"Saving model to: {MODEL_SAVE_PATH}\")\n",
        "torch.save(obj=model_2.state_dict(),\n",
        "           f=MODEL_SAVE_PATH)"
      ],
      "metadata": {
        "colab": {
          "base_uri": "https://localhost:8080/"
        },
        "id": "0S1lZnHv3A_d",
        "outputId": "cac3f31c-6ee7-45db-cc21-a62ce87d82b2"
      },
      "execution_count": 83,
      "outputs": [
        {
          "output_type": "stream",
          "name": "stdout",
          "text": [
            "Saving model to: models/03_pytorch_computer_vision_model_2.pth\n"
          ]
        }
      ]
    },
    {
      "cell_type": "code",
      "source": [
        "image_shape = [1, 28, 28]"
      ],
      "metadata": {
        "id": "z_O8TsUn3uYL"
      },
      "execution_count": 84,
      "outputs": []
    },
    {
      "cell_type": "code",
      "source": [
        "# Create a new instance\n",
        "torch.manual_seed(42)\n",
        "\n",
        "loaded_model_2 = FashionMNISTModelV2(input_shape=1,\n",
        "                                     hidden_units=10,\n",
        "                                     output_shape=len(class_names))\n",
        "\n",
        "# Load in the save state_dict()\n",
        "loaded_model_2.load_state_dict(torch.load(f=MODEL_SAVE_PATH))\n",
        "\n",
        "# Send the model to the target device\n",
        "loaded_model_2.to(device)"
      ],
      "metadata": {
        "colab": {
          "base_uri": "https://localhost:8080/"
        },
        "id": "Qpal_9Vq3xhn",
        "outputId": "d756db37-63a1-4893-c4bd-ca5f60a09e0e"
      },
      "execution_count": 85,
      "outputs": [
        {
          "output_type": "stream",
          "name": "stderr",
          "text": [
            "<ipython-input-85-d3aa727c7c4d>:9: FutureWarning: You are using `torch.load` with `weights_only=False` (the current default value), which uses the default pickle module implicitly. It is possible to construct malicious pickle data which will execute arbitrary code during unpickling (See https://github.com/pytorch/pytorch/blob/main/SECURITY.md#untrusted-models for more details). In a future release, the default value for `weights_only` will be flipped to `True`. This limits the functions that could be executed during unpickling. Arbitrary objects will no longer be allowed to be loaded via this mode unless they are explicitly allowlisted by the user via `torch.serialization.add_safe_globals`. We recommend you start setting `weights_only=True` for any use case where you don't have full control of the loaded file. Please open an issue on GitHub for any issues related to this experimental feature.\n",
            "  loaded_model_2.load_state_dict(torch.load(f=MODEL_SAVE_PATH))\n"
          ]
        },
        {
          "output_type": "execute_result",
          "data": {
            "text/plain": [
              "FashionMNISTModelV2(\n",
              "  (conv_block_1): Sequential(\n",
              "    (0): Conv2d(1, 10, kernel_size=(3, 3), stride=(1, 1), padding=(1, 1))\n",
              "    (1): ReLU()\n",
              "    (2): Conv2d(10, 10, kernel_size=(3, 3), stride=(1, 1), padding=(1, 1))\n",
              "    (3): ReLU()\n",
              "    (4): MaxPool2d(kernel_size=2, stride=2, padding=0, dilation=1, ceil_mode=False)\n",
              "  )\n",
              "  (conv_block_2): Sequential(\n",
              "    (0): Conv2d(10, 10, kernel_size=(3, 3), stride=(1, 1), padding=(1, 1))\n",
              "    (1): ReLU()\n",
              "    (2): Conv2d(10, 10, kernel_size=(3, 3), stride=(1, 1), padding=(1, 1))\n",
              "    (3): ReLU()\n",
              "    (4): MaxPool2d(kernel_size=2, stride=2, padding=0, dilation=1, ceil_mode=False)\n",
              "  )\n",
              "  (classifier): Sequential(\n",
              "    (0): Flatten(start_dim=1, end_dim=-1)\n",
              "    (1): Linear(in_features=490, out_features=10, bias=True)\n",
              "  )\n",
              ")"
            ]
          },
          "metadata": {},
          "execution_count": 85
        }
      ]
    },
    {
      "cell_type": "code",
      "source": [],
      "metadata": {
        "id": "gv0ouP8Y30ll"
      },
      "execution_count": null,
      "outputs": []
    }
  ]
}